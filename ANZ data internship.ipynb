{
 "cells": [
  {
   "cell_type": "code",
   "execution_count": 2,
   "id": "d51403bc",
   "metadata": {},
   "outputs": [],
   "source": [
    "import numpy as np\n",
    "import pandas as pd\n",
    "import matplotlib.pyplot as plt\n",
    "import seaborn as sns"
   ]
  },
  {
   "cell_type": "code",
   "execution_count": 3,
   "id": "531c254d",
   "metadata": {},
   "outputs": [
    {
     "data": {
      "text/html": [
       "<div>\n",
       "<style scoped>\n",
       "    .dataframe tbody tr th:only-of-type {\n",
       "        vertical-align: middle;\n",
       "    }\n",
       "\n",
       "    .dataframe tbody tr th {\n",
       "        vertical-align: top;\n",
       "    }\n",
       "\n",
       "    .dataframe thead th {\n",
       "        text-align: right;\n",
       "    }\n",
       "</style>\n",
       "<table border=\"1\" class=\"dataframe\">\n",
       "  <thead>\n",
       "    <tr style=\"text-align: right;\">\n",
       "      <th></th>\n",
       "      <th>status</th>\n",
       "      <th>card_present_flag</th>\n",
       "      <th>bpay_biller_code</th>\n",
       "      <th>account</th>\n",
       "      <th>currency</th>\n",
       "      <th>long_lat</th>\n",
       "      <th>txn_description</th>\n",
       "      <th>merchant_id</th>\n",
       "      <th>merchant_code</th>\n",
       "      <th>first_name</th>\n",
       "      <th>balance</th>\n",
       "      <th>date</th>\n",
       "      <th>gender</th>\n",
       "      <th>age</th>\n",
       "      <th>merchant_suburb</th>\n",
       "      <th>merchant_state</th>\n",
       "      <th>extraction</th>\n",
       "      <th>amount</th>\n",
       "      <th>transaction_id</th>\n",
       "      <th>country</th>\n",
       "      <th>customer_id</th>\n",
       "      <th>merchant_long_lat</th>\n",
       "      <th>movement</th>\n",
       "    </tr>\n",
       "  </thead>\n",
       "  <tbody>\n",
       "    <tr>\n",
       "      <th>0</th>\n",
       "      <td>authorized</td>\n",
       "      <td>1.0</td>\n",
       "      <td>NaN</td>\n",
       "      <td>ACC-1598451071</td>\n",
       "      <td>AUD</td>\n",
       "      <td>153.41 -27.95</td>\n",
       "      <td>POS</td>\n",
       "      <td>81c48296-73be-44a7-befa-d053f48ce7cd</td>\n",
       "      <td>NaN</td>\n",
       "      <td>Diana</td>\n",
       "      <td>35.39</td>\n",
       "      <td>01-08-2018</td>\n",
       "      <td>F</td>\n",
       "      <td>26</td>\n",
       "      <td>Ashmore</td>\n",
       "      <td>QLD</td>\n",
       "      <td>2018-08-01T01:01:15.000+0000</td>\n",
       "      <td>16.25</td>\n",
       "      <td>a623070bfead4541a6b0fff8a09e706c</td>\n",
       "      <td>Australia</td>\n",
       "      <td>CUS-2487424745</td>\n",
       "      <td>153.38 -27.99</td>\n",
       "      <td>debit</td>\n",
       "    </tr>\n",
       "    <tr>\n",
       "      <th>1</th>\n",
       "      <td>authorized</td>\n",
       "      <td>0.0</td>\n",
       "      <td>NaN</td>\n",
       "      <td>ACC-1598451071</td>\n",
       "      <td>AUD</td>\n",
       "      <td>153.41 -27.95</td>\n",
       "      <td>SALES-POS</td>\n",
       "      <td>830a451c-316e-4a6a-bf25-e37caedca49e</td>\n",
       "      <td>NaN</td>\n",
       "      <td>Diana</td>\n",
       "      <td>21.20</td>\n",
       "      <td>01-08-2018</td>\n",
       "      <td>F</td>\n",
       "      <td>26</td>\n",
       "      <td>Sydney</td>\n",
       "      <td>NSW</td>\n",
       "      <td>2018-08-01T01:13:45.000+0000</td>\n",
       "      <td>14.19</td>\n",
       "      <td>13270a2a902145da9db4c951e04b51b9</td>\n",
       "      <td>Australia</td>\n",
       "      <td>CUS-2487424745</td>\n",
       "      <td>151.21 -33.87</td>\n",
       "      <td>debit</td>\n",
       "    </tr>\n",
       "    <tr>\n",
       "      <th>2</th>\n",
       "      <td>authorized</td>\n",
       "      <td>1.0</td>\n",
       "      <td>NaN</td>\n",
       "      <td>ACC-1222300524</td>\n",
       "      <td>AUD</td>\n",
       "      <td>151.23 -33.94</td>\n",
       "      <td>POS</td>\n",
       "      <td>835c231d-8cdf-4e96-859d-e9d571760cf0</td>\n",
       "      <td>NaN</td>\n",
       "      <td>Michael</td>\n",
       "      <td>5.71</td>\n",
       "      <td>01-08-2018</td>\n",
       "      <td>M</td>\n",
       "      <td>38</td>\n",
       "      <td>Sydney</td>\n",
       "      <td>NSW</td>\n",
       "      <td>2018-08-01T01:26:15.000+0000</td>\n",
       "      <td>6.42</td>\n",
       "      <td>feb79e7ecd7048a5a36ec889d1a94270</td>\n",
       "      <td>Australia</td>\n",
       "      <td>CUS-2142601169</td>\n",
       "      <td>151.21 -33.87</td>\n",
       "      <td>debit</td>\n",
       "    </tr>\n",
       "    <tr>\n",
       "      <th>3</th>\n",
       "      <td>authorized</td>\n",
       "      <td>1.0</td>\n",
       "      <td>NaN</td>\n",
       "      <td>ACC-1037050564</td>\n",
       "      <td>AUD</td>\n",
       "      <td>153.10 -27.66</td>\n",
       "      <td>SALES-POS</td>\n",
       "      <td>48514682-c78a-4a88-b0da-2d6302e64673</td>\n",
       "      <td>NaN</td>\n",
       "      <td>Rhonda</td>\n",
       "      <td>2117.22</td>\n",
       "      <td>01-08-2018</td>\n",
       "      <td>F</td>\n",
       "      <td>40</td>\n",
       "      <td>Buderim</td>\n",
       "      <td>QLD</td>\n",
       "      <td>2018-08-01T01:38:45.000+0000</td>\n",
       "      <td>40.90</td>\n",
       "      <td>2698170da3704fd981b15e64a006079e</td>\n",
       "      <td>Australia</td>\n",
       "      <td>CUS-1614226872</td>\n",
       "      <td>153.05 -26.68</td>\n",
       "      <td>debit</td>\n",
       "    </tr>\n",
       "    <tr>\n",
       "      <th>4</th>\n",
       "      <td>authorized</td>\n",
       "      <td>1.0</td>\n",
       "      <td>NaN</td>\n",
       "      <td>ACC-1598451071</td>\n",
       "      <td>AUD</td>\n",
       "      <td>153.41 -27.95</td>\n",
       "      <td>SALES-POS</td>\n",
       "      <td>b4e02c10-0852-4273-b8fd-7b3395e32eb0</td>\n",
       "      <td>NaN</td>\n",
       "      <td>Diana</td>\n",
       "      <td>17.95</td>\n",
       "      <td>01-08-2018</td>\n",
       "      <td>F</td>\n",
       "      <td>26</td>\n",
       "      <td>Mermaid Beach</td>\n",
       "      <td>QLD</td>\n",
       "      <td>2018-08-01T01:51:15.000+0000</td>\n",
       "      <td>3.25</td>\n",
       "      <td>329adf79878c4cf0aeb4188b4691c266</td>\n",
       "      <td>Australia</td>\n",
       "      <td>CUS-2487424745</td>\n",
       "      <td>153.44 -28.06</td>\n",
       "      <td>debit</td>\n",
       "    </tr>\n",
       "    <tr>\n",
       "      <th>...</th>\n",
       "      <td>...</td>\n",
       "      <td>...</td>\n",
       "      <td>...</td>\n",
       "      <td>...</td>\n",
       "      <td>...</td>\n",
       "      <td>...</td>\n",
       "      <td>...</td>\n",
       "      <td>...</td>\n",
       "      <td>...</td>\n",
       "      <td>...</td>\n",
       "      <td>...</td>\n",
       "      <td>...</td>\n",
       "      <td>...</td>\n",
       "      <td>...</td>\n",
       "      <td>...</td>\n",
       "      <td>...</td>\n",
       "      <td>...</td>\n",
       "      <td>...</td>\n",
       "      <td>...</td>\n",
       "      <td>...</td>\n",
       "      <td>...</td>\n",
       "      <td>...</td>\n",
       "      <td>...</td>\n",
       "    </tr>\n",
       "    <tr>\n",
       "      <th>12038</th>\n",
       "      <td>authorized</td>\n",
       "      <td>0.0</td>\n",
       "      <td>NaN</td>\n",
       "      <td>ACC-3021093232</td>\n",
       "      <td>AUD</td>\n",
       "      <td>149.83 -29.47</td>\n",
       "      <td>POS</td>\n",
       "      <td>32aa73dc-b7c2-4161-b14d-6271b96ce792</td>\n",
       "      <td>NaN</td>\n",
       "      <td>Melissa</td>\n",
       "      <td>14054.14</td>\n",
       "      <td>31-10-2018</td>\n",
       "      <td>F</td>\n",
       "      <td>30</td>\n",
       "      <td>Ringwood</td>\n",
       "      <td>VIC</td>\n",
       "      <td>2018-10-31T23:09:06.000+0000</td>\n",
       "      <td>9.79</td>\n",
       "      <td>f2e3e695c2ee4c50a4c8747f852cbe2e</td>\n",
       "      <td>Australia</td>\n",
       "      <td>CUS-55310383</td>\n",
       "      <td>145.23 -37.81</td>\n",
       "      <td>debit</td>\n",
       "    </tr>\n",
       "    <tr>\n",
       "      <th>12039</th>\n",
       "      <td>authorized</td>\n",
       "      <td>1.0</td>\n",
       "      <td>NaN</td>\n",
       "      <td>ACC-1608363396</td>\n",
       "      <td>AUD</td>\n",
       "      <td>151.22 -33.87</td>\n",
       "      <td>SALES-POS</td>\n",
       "      <td>296a0500-8552-48ac-ac81-ec37065b568e</td>\n",
       "      <td>NaN</td>\n",
       "      <td>Robert</td>\n",
       "      <td>9137.79</td>\n",
       "      <td>31-10-2018</td>\n",
       "      <td>M</td>\n",
       "      <td>20</td>\n",
       "      <td>Casula</td>\n",
       "      <td>NSW</td>\n",
       "      <td>2018-10-31T23:21:46.000+0000</td>\n",
       "      <td>63.87</td>\n",
       "      <td>56e147e5485f4683b9076fcaaed76640</td>\n",
       "      <td>Australia</td>\n",
       "      <td>CUS-2688605418</td>\n",
       "      <td>150.88 -33.96</td>\n",
       "      <td>debit</td>\n",
       "    </tr>\n",
       "    <tr>\n",
       "      <th>12040</th>\n",
       "      <td>authorized</td>\n",
       "      <td>1.0</td>\n",
       "      <td>NaN</td>\n",
       "      <td>ACC-3827517394</td>\n",
       "      <td>AUD</td>\n",
       "      <td>151.12 -33.89</td>\n",
       "      <td>POS</td>\n",
       "      <td>e5975ab4-08f7-4725-a369-24cc0e35ed6e</td>\n",
       "      <td>NaN</td>\n",
       "      <td>Craig</td>\n",
       "      <td>45394.57</td>\n",
       "      <td>31-10-2018</td>\n",
       "      <td>M</td>\n",
       "      <td>28</td>\n",
       "      <td>Kings Park</td>\n",
       "      <td>NSW</td>\n",
       "      <td>2018-10-31T23:34:25.000+0000</td>\n",
       "      <td>43.96</td>\n",
       "      <td>2fdd4681827343f6af2e6519644a684a</td>\n",
       "      <td>Australia</td>\n",
       "      <td>CUS-2663907001</td>\n",
       "      <td>150.92 -33.74</td>\n",
       "      <td>debit</td>\n",
       "    </tr>\n",
       "    <tr>\n",
       "      <th>12041</th>\n",
       "      <td>authorized</td>\n",
       "      <td>1.0</td>\n",
       "      <td>NaN</td>\n",
       "      <td>ACC-2920611728</td>\n",
       "      <td>AUD</td>\n",
       "      <td>144.96 -37.76</td>\n",
       "      <td>SALES-POS</td>\n",
       "      <td>af49051a-591d-4b08-bd3c-27730b70ed37</td>\n",
       "      <td>NaN</td>\n",
       "      <td>Tyler</td>\n",
       "      <td>11350.67</td>\n",
       "      <td>31-10-2018</td>\n",
       "      <td>M</td>\n",
       "      <td>69</td>\n",
       "      <td>Oakleigh</td>\n",
       "      <td>VIC</td>\n",
       "      <td>2018-10-31T23:47:05.000+0000</td>\n",
       "      <td>30.77</td>\n",
       "      <td>74aa9cd7e4af4c6d9cd7dbd28e9aedc9</td>\n",
       "      <td>Australia</td>\n",
       "      <td>CUS-1388323263</td>\n",
       "      <td>145.09 -37.91</td>\n",
       "      <td>debit</td>\n",
       "    </tr>\n",
       "    <tr>\n",
       "      <th>12042</th>\n",
       "      <td>authorized</td>\n",
       "      <td>1.0</td>\n",
       "      <td>NaN</td>\n",
       "      <td>ACC-1443681913</td>\n",
       "      <td>AUD</td>\n",
       "      <td>150.92 -33.77</td>\n",
       "      <td>SALES-POS</td>\n",
       "      <td>f31f4b14-2040-40ec-a120-b141bb274cbd</td>\n",
       "      <td>NaN</td>\n",
       "      <td>Ryan</td>\n",
       "      <td>5517.91</td>\n",
       "      <td>31-10-2018</td>\n",
       "      <td>M</td>\n",
       "      <td>31</td>\n",
       "      <td>Mascot</td>\n",
       "      <td>NSW</td>\n",
       "      <td>2018-10-31T23:59:44.000+0000</td>\n",
       "      <td>22.36</td>\n",
       "      <td>6d5218e04e8040b9996850ce11a19426</td>\n",
       "      <td>Australia</td>\n",
       "      <td>CUS-3129499595</td>\n",
       "      <td>151.19 -33.93</td>\n",
       "      <td>debit</td>\n",
       "    </tr>\n",
       "  </tbody>\n",
       "</table>\n",
       "<p>12043 rows × 23 columns</p>\n",
       "</div>"
      ],
      "text/plain": [
       "           status  card_present_flag bpay_biller_code         account  \\\n",
       "0      authorized                1.0              NaN  ACC-1598451071   \n",
       "1      authorized                0.0              NaN  ACC-1598451071   \n",
       "2      authorized                1.0              NaN  ACC-1222300524   \n",
       "3      authorized                1.0              NaN  ACC-1037050564   \n",
       "4      authorized                1.0              NaN  ACC-1598451071   \n",
       "...           ...                ...              ...             ...   \n",
       "12038  authorized                0.0              NaN  ACC-3021093232   \n",
       "12039  authorized                1.0              NaN  ACC-1608363396   \n",
       "12040  authorized                1.0              NaN  ACC-3827517394   \n",
       "12041  authorized                1.0              NaN  ACC-2920611728   \n",
       "12042  authorized                1.0              NaN  ACC-1443681913   \n",
       "\n",
       "      currency       long_lat txn_description  \\\n",
       "0          AUD  153.41 -27.95             POS   \n",
       "1          AUD  153.41 -27.95       SALES-POS   \n",
       "2          AUD  151.23 -33.94             POS   \n",
       "3          AUD  153.10 -27.66       SALES-POS   \n",
       "4          AUD  153.41 -27.95       SALES-POS   \n",
       "...        ...            ...             ...   \n",
       "12038      AUD  149.83 -29.47             POS   \n",
       "12039      AUD  151.22 -33.87       SALES-POS   \n",
       "12040      AUD  151.12 -33.89             POS   \n",
       "12041      AUD  144.96 -37.76       SALES-POS   \n",
       "12042      AUD  150.92 -33.77       SALES-POS   \n",
       "\n",
       "                                merchant_id  merchant_code first_name  \\\n",
       "0      81c48296-73be-44a7-befa-d053f48ce7cd            NaN      Diana   \n",
       "1      830a451c-316e-4a6a-bf25-e37caedca49e            NaN      Diana   \n",
       "2      835c231d-8cdf-4e96-859d-e9d571760cf0            NaN    Michael   \n",
       "3      48514682-c78a-4a88-b0da-2d6302e64673            NaN     Rhonda   \n",
       "4      b4e02c10-0852-4273-b8fd-7b3395e32eb0            NaN      Diana   \n",
       "...                                     ...            ...        ...   \n",
       "12038  32aa73dc-b7c2-4161-b14d-6271b96ce792            NaN    Melissa   \n",
       "12039  296a0500-8552-48ac-ac81-ec37065b568e            NaN     Robert   \n",
       "12040  e5975ab4-08f7-4725-a369-24cc0e35ed6e            NaN      Craig   \n",
       "12041  af49051a-591d-4b08-bd3c-27730b70ed37            NaN      Tyler   \n",
       "12042  f31f4b14-2040-40ec-a120-b141bb274cbd            NaN       Ryan   \n",
       "\n",
       "        balance        date gender  age merchant_suburb merchant_state  \\\n",
       "0         35.39  01-08-2018      F   26         Ashmore            QLD   \n",
       "1         21.20  01-08-2018      F   26          Sydney            NSW   \n",
       "2          5.71  01-08-2018      M   38          Sydney            NSW   \n",
       "3       2117.22  01-08-2018      F   40         Buderim            QLD   \n",
       "4         17.95  01-08-2018      F   26   Mermaid Beach            QLD   \n",
       "...         ...         ...    ...  ...             ...            ...   \n",
       "12038  14054.14  31-10-2018      F   30        Ringwood            VIC   \n",
       "12039   9137.79  31-10-2018      M   20          Casula            NSW   \n",
       "12040  45394.57  31-10-2018      M   28      Kings Park            NSW   \n",
       "12041  11350.67  31-10-2018      M   69        Oakleigh            VIC   \n",
       "12042   5517.91  31-10-2018      M   31          Mascot            NSW   \n",
       "\n",
       "                         extraction  amount                    transaction_id  \\\n",
       "0      2018-08-01T01:01:15.000+0000   16.25  a623070bfead4541a6b0fff8a09e706c   \n",
       "1      2018-08-01T01:13:45.000+0000   14.19  13270a2a902145da9db4c951e04b51b9   \n",
       "2      2018-08-01T01:26:15.000+0000    6.42  feb79e7ecd7048a5a36ec889d1a94270   \n",
       "3      2018-08-01T01:38:45.000+0000   40.90  2698170da3704fd981b15e64a006079e   \n",
       "4      2018-08-01T01:51:15.000+0000    3.25  329adf79878c4cf0aeb4188b4691c266   \n",
       "...                             ...     ...                               ...   \n",
       "12038  2018-10-31T23:09:06.000+0000    9.79  f2e3e695c2ee4c50a4c8747f852cbe2e   \n",
       "12039  2018-10-31T23:21:46.000+0000   63.87  56e147e5485f4683b9076fcaaed76640   \n",
       "12040  2018-10-31T23:34:25.000+0000   43.96  2fdd4681827343f6af2e6519644a684a   \n",
       "12041  2018-10-31T23:47:05.000+0000   30.77  74aa9cd7e4af4c6d9cd7dbd28e9aedc9   \n",
       "12042  2018-10-31T23:59:44.000+0000   22.36  6d5218e04e8040b9996850ce11a19426   \n",
       "\n",
       "         country     customer_id merchant_long_lat movement  \n",
       "0      Australia  CUS-2487424745     153.38 -27.99    debit  \n",
       "1      Australia  CUS-2487424745     151.21 -33.87    debit  \n",
       "2      Australia  CUS-2142601169     151.21 -33.87    debit  \n",
       "3      Australia  CUS-1614226872     153.05 -26.68    debit  \n",
       "4      Australia  CUS-2487424745     153.44 -28.06    debit  \n",
       "...          ...             ...               ...      ...  \n",
       "12038  Australia    CUS-55310383     145.23 -37.81    debit  \n",
       "12039  Australia  CUS-2688605418     150.88 -33.96    debit  \n",
       "12040  Australia  CUS-2663907001     150.92 -33.74    debit  \n",
       "12041  Australia  CUS-1388323263     145.09 -37.91    debit  \n",
       "12042  Australia  CUS-3129499595     151.19 -33.93    debit  \n",
       "\n",
       "[12043 rows x 23 columns]"
      ]
     },
     "execution_count": 3,
     "metadata": {},
     "output_type": "execute_result"
    }
   ],
   "source": [
    "df = pd.read_csv('https://raw.githubusercontent.com/DaniellaBrito/ANZ-Internship-/main/ANZ%20synthesised%20transaction%20dataset.csv')\n",
    "pd.set_option('display.max_columns', None)\n",
    "df"
   ]
  },
  {
   "cell_type": "markdown",
   "id": "05ee4e96",
   "metadata": {},
   "source": [
    "#### This dataset contains 3 months of transactions for 100 customers ehich includes purchases, recurring and salary transactions\n",
    "\n",
    "We will check all columns"
   ]
  },
  {
   "cell_type": "code",
   "execution_count": 4,
   "id": "cc607867",
   "metadata": {},
   "outputs": [
    {
     "data": {
      "text/plain": [
       "Index(['status', 'card_present_flag', 'bpay_biller_code', 'account',\n",
       "       'currency', 'long_lat', 'txn_description', 'merchant_id',\n",
       "       'merchant_code', 'first_name', 'balance', 'date', 'gender', 'age',\n",
       "       'merchant_suburb', 'merchant_state', 'extraction', 'amount',\n",
       "       'transaction_id', 'country', 'customer_id', 'merchant_long_lat',\n",
       "       'movement'],\n",
       "      dtype='object')"
      ]
     },
     "execution_count": 4,
     "metadata": {},
     "output_type": "execute_result"
    }
   ],
   "source": [
    "df.columns"
   ]
  },
  {
   "cell_type": "code",
   "execution_count": 5,
   "id": "565f4e1e",
   "metadata": {},
   "outputs": [
    {
     "name": "stdout",
     "output_type": "stream",
     "text": [
      "<class 'pandas.core.frame.DataFrame'>\n",
      "RangeIndex: 12043 entries, 0 to 12042\n",
      "Data columns (total 23 columns):\n",
      " #   Column             Non-Null Count  Dtype  \n",
      "---  ------             --------------  -----  \n",
      " 0   status             12043 non-null  object \n",
      " 1   card_present_flag  7717 non-null   float64\n",
      " 2   bpay_biller_code   885 non-null    object \n",
      " 3   account            12043 non-null  object \n",
      " 4   currency           12043 non-null  object \n",
      " 5   long_lat           12043 non-null  object \n",
      " 6   txn_description    12043 non-null  object \n",
      " 7   merchant_id        7717 non-null   object \n",
      " 8   merchant_code      883 non-null    float64\n",
      " 9   first_name         12043 non-null  object \n",
      " 10  balance            12043 non-null  float64\n",
      " 11  date               12043 non-null  object \n",
      " 12  gender             12043 non-null  object \n",
      " 13  age                12043 non-null  int64  \n",
      " 14  merchant_suburb    7717 non-null   object \n",
      " 15  merchant_state     7717 non-null   object \n",
      " 16  extraction         12043 non-null  object \n",
      " 17  amount             12043 non-null  float64\n",
      " 18  transaction_id     12043 non-null  object \n",
      " 19  country            12043 non-null  object \n",
      " 20  customer_id        12043 non-null  object \n",
      " 21  merchant_long_lat  7717 non-null   object \n",
      " 22  movement           12043 non-null  object \n",
      "dtypes: float64(4), int64(1), object(18)\n",
      "memory usage: 2.1+ MB\n"
     ]
    }
   ],
   "source": [
    "df.info()"
   ]
  },
  {
   "cell_type": "markdown",
   "id": "9d47a8b5",
   "metadata": {},
   "source": [
    "# Basic check"
   ]
  },
  {
   "cell_type": "markdown",
   "id": "f5b2f062",
   "metadata": {},
   "source": [
    "#### customer_id will give us unique customers"
   ]
  },
  {
   "cell_type": "code",
   "execution_count": 6,
   "id": "472fa6d3",
   "metadata": {},
   "outputs": [
    {
     "name": "stdout",
     "output_type": "stream",
     "text": [
      "Number of unique customers: 100\n"
     ]
    }
   ],
   "source": [
    "print('Number of unique customers:',df.customer_id.nunique())"
   ]
  },
  {
   "cell_type": "markdown",
   "id": "59217d67",
   "metadata": {},
   "source": [
    "#### We have 100 unique customers in the dataset"
   ]
  },
  {
   "cell_type": "code",
   "execution_count": 7,
   "id": "c991b3fa",
   "metadata": {},
   "outputs": [
    {
     "name": "stdout",
     "output_type": "stream",
     "text": [
      "Number of rows in the data: 12043\n",
      "Number of unique transactions in the data: 12043\n"
     ]
    }
   ],
   "source": [
    "print('Number of rows in the data:',df.shape[0])\n",
    "print('Number of unique transactions in the data:',df.transaction_id.nunique())"
   ]
  },
  {
   "cell_type": "markdown",
   "id": "b87a1647",
   "metadata": {},
   "source": [
    "#### Number of unique transaction ID's correspond to the number of rows in the dataset which suggests that each row represent a single, unique transaction."
   ]
  },
  {
   "cell_type": "code",
   "execution_count": 8,
   "id": "7f267d89",
   "metadata": {},
   "outputs": [
    {
     "data": {
      "text/plain": [
       "count          12043\n",
       "unique            91\n",
       "top       28-09-2018\n",
       "freq             174\n",
       "Name: date, dtype: object"
      ]
     },
     "execution_count": 8,
     "metadata": {},
     "output_type": "execute_result"
    }
   ],
   "source": [
    "df.date.describe()"
   ]
  },
  {
   "cell_type": "markdown",
   "id": "7e7b36c3",
   "metadata": {},
   "source": [
    "#### We do indeed have 3 months worth of data, starting from 1/8/2018 to 31/10/2018. However, there are only 91 unique days which means that there is one missing day."
   ]
  },
  {
   "cell_type": "markdown",
   "id": "7cdaa052",
   "metadata": {},
   "source": [
    "# Non-null count and missing value analysis"
   ]
  },
  {
   "cell_type": "markdown",
   "id": "6fdac77f",
   "metadata": {},
   "source": [
    "## Missing values"
   ]
  },
  {
   "cell_type": "code",
   "execution_count": 9,
   "id": "36a57675",
   "metadata": {},
   "outputs": [
    {
     "data": {
      "text/plain": [
       "status                   0\n",
       "card_present_flag     4326\n",
       "bpay_biller_code     11158\n",
       "account                  0\n",
       "currency                 0\n",
       "long_lat                 0\n",
       "txn_description          0\n",
       "merchant_id           4326\n",
       "merchant_code        11160\n",
       "first_name               0\n",
       "balance                  0\n",
       "date                     0\n",
       "gender                   0\n",
       "age                      0\n",
       "merchant_suburb       4326\n",
       "merchant_state        4326\n",
       "extraction               0\n",
       "amount                   0\n",
       "transaction_id           0\n",
       "country                  0\n",
       "customer_id              0\n",
       "merchant_long_lat     4326\n",
       "movement                 0\n",
       "dtype: int64"
      ]
     },
     "execution_count": 9,
     "metadata": {},
     "output_type": "execute_result"
    }
   ],
   "source": [
    "df.isna().sum()"
   ]
  },
  {
   "cell_type": "code",
   "execution_count": 10,
   "id": "121f8dd4",
   "metadata": {},
   "outputs": [
    {
     "data": {
      "text/html": [
       "<div>\n",
       "<style scoped>\n",
       "    .dataframe tbody tr th:only-of-type {\n",
       "        vertical-align: middle;\n",
       "    }\n",
       "\n",
       "    .dataframe tbody tr th {\n",
       "        vertical-align: top;\n",
       "    }\n",
       "\n",
       "    .dataframe thead th {\n",
       "        text-align: right;\n",
       "    }\n",
       "</style>\n",
       "<table border=\"1\" class=\"dataframe\">\n",
       "  <thead>\n",
       "    <tr style=\"text-align: right;\">\n",
       "      <th></th>\n",
       "      <th>card_present_flag</th>\n",
       "      <th>merchant_code</th>\n",
       "      <th>balance</th>\n",
       "      <th>age</th>\n",
       "      <th>amount</th>\n",
       "    </tr>\n",
       "  </thead>\n",
       "  <tbody>\n",
       "    <tr>\n",
       "      <th>count</th>\n",
       "      <td>7717.000000</td>\n",
       "      <td>883.0</td>\n",
       "      <td>12043.000000</td>\n",
       "      <td>12043.000000</td>\n",
       "      <td>12043.000000</td>\n",
       "    </tr>\n",
       "    <tr>\n",
       "      <th>mean</th>\n",
       "      <td>0.802644</td>\n",
       "      <td>0.0</td>\n",
       "      <td>14704.195553</td>\n",
       "      <td>30.582330</td>\n",
       "      <td>187.933588</td>\n",
       "    </tr>\n",
       "    <tr>\n",
       "      <th>std</th>\n",
       "      <td>0.398029</td>\n",
       "      <td>0.0</td>\n",
       "      <td>31503.722652</td>\n",
       "      <td>10.046343</td>\n",
       "      <td>592.599934</td>\n",
       "    </tr>\n",
       "    <tr>\n",
       "      <th>min</th>\n",
       "      <td>0.000000</td>\n",
       "      <td>0.0</td>\n",
       "      <td>0.240000</td>\n",
       "      <td>18.000000</td>\n",
       "      <td>0.100000</td>\n",
       "    </tr>\n",
       "    <tr>\n",
       "      <th>25%</th>\n",
       "      <td>1.000000</td>\n",
       "      <td>0.0</td>\n",
       "      <td>3158.585000</td>\n",
       "      <td>22.000000</td>\n",
       "      <td>16.000000</td>\n",
       "    </tr>\n",
       "    <tr>\n",
       "      <th>50%</th>\n",
       "      <td>1.000000</td>\n",
       "      <td>0.0</td>\n",
       "      <td>6432.010000</td>\n",
       "      <td>28.000000</td>\n",
       "      <td>29.000000</td>\n",
       "    </tr>\n",
       "    <tr>\n",
       "      <th>75%</th>\n",
       "      <td>1.000000</td>\n",
       "      <td>0.0</td>\n",
       "      <td>12465.945000</td>\n",
       "      <td>38.000000</td>\n",
       "      <td>53.655000</td>\n",
       "    </tr>\n",
       "    <tr>\n",
       "      <th>max</th>\n",
       "      <td>1.000000</td>\n",
       "      <td>0.0</td>\n",
       "      <td>267128.520000</td>\n",
       "      <td>78.000000</td>\n",
       "      <td>8835.980000</td>\n",
       "    </tr>\n",
       "  </tbody>\n",
       "</table>\n",
       "</div>"
      ],
      "text/plain": [
       "       card_present_flag  merchant_code        balance           age  \\\n",
       "count        7717.000000          883.0   12043.000000  12043.000000   \n",
       "mean            0.802644            0.0   14704.195553     30.582330   \n",
       "std             0.398029            0.0   31503.722652     10.046343   \n",
       "min             0.000000            0.0       0.240000     18.000000   \n",
       "25%             1.000000            0.0    3158.585000     22.000000   \n",
       "50%             1.000000            0.0    6432.010000     28.000000   \n",
       "75%             1.000000            0.0   12465.945000     38.000000   \n",
       "max             1.000000            0.0  267128.520000     78.000000   \n",
       "\n",
       "             amount  \n",
       "count  12043.000000  \n",
       "mean     187.933588  \n",
       "std      592.599934  \n",
       "min        0.100000  \n",
       "25%       16.000000  \n",
       "50%       29.000000  \n",
       "75%       53.655000  \n",
       "max     8835.980000  "
      ]
     },
     "execution_count": 10,
     "metadata": {},
     "output_type": "execute_result"
    }
   ],
   "source": [
    "df.describe()"
   ]
  },
  {
   "cell_type": "markdown",
   "id": "4a01b635",
   "metadata": {},
   "source": [
    "# Exploratory Data Analysis"
   ]
  },
  {
   "cell_type": "markdown",
   "id": "d6dd732c",
   "metadata": {},
   "source": [
    "#### Here, we will skip the following columns as they are merely identifiers and won't provide us with much information:\n",
    "\n",
    "bpay_biller_code,\n",
    "account,\n",
    "merchant_id,\n",
    "merchant_code,\n",
    "first_name,\n",
    "transaction_id,\n",
    "customer_id"
   ]
  },
  {
   "cell_type": "markdown",
   "id": "b16430a5",
   "metadata": {},
   "source": [
    "## Status"
   ]
  },
  {
   "cell_type": "code",
   "execution_count": 11,
   "id": "8a62d98b",
   "metadata": {},
   "outputs": [
    {
     "data": {
      "text/plain": [
       "authorized    7717\n",
       "posted        4326\n",
       "Name: status, dtype: int64"
      ]
     },
     "execution_count": 11,
     "metadata": {},
     "output_type": "execute_result"
    }
   ],
   "source": [
    "df.status.value_counts(dropna=False)"
   ]
  },
  {
   "cell_type": "markdown",
   "id": "74d96643",
   "metadata": {},
   "source": [
    "#### Status of of the individual transactions: authorised means transaction has already been approved, posted means still in the process."
   ]
  },
  {
   "cell_type": "markdown",
   "id": "e9b301ad",
   "metadata": {},
   "source": [
    "## Card present flag"
   ]
  },
  {
   "cell_type": "code",
   "execution_count": 12,
   "id": "c03677e9",
   "metadata": {},
   "outputs": [
    {
     "data": {
      "text/plain": [
       "1.0    6194\n",
       "NaN    4326\n",
       "0.0    1523\n",
       "Name: card_present_flag, dtype: int64"
      ]
     },
     "execution_count": 12,
     "metadata": {},
     "output_type": "execute_result"
    }
   ],
   "source": [
    "df.card_present_flag.value_counts(dropna=False)"
   ]
  },
  {
   "cell_type": "markdown",
   "id": "6a5b4d89",
   "metadata": {},
   "source": [
    "#### We can see here that Card-not-present (CNP) transaction occurs when neither the cardholder nor the credit card is physically present at the time of the transaction. It's most common for orders that happen remotely over the phone, internet or mail."
   ]
  },
  {
   "cell_type": "markdown",
   "id": "31bccd57",
   "metadata": {},
   "source": [
    "## Currency of transaction"
   ]
  },
  {
   "cell_type": "code",
   "execution_count": 13,
   "id": "32683b9a",
   "metadata": {},
   "outputs": [
    {
     "data": {
      "text/plain": [
       "AUD    12043\n",
       "Name: currency, dtype: int64"
      ]
     },
     "execution_count": 13,
     "metadata": {},
     "output_type": "execute_result"
    }
   ],
   "source": [
    "df.currency.value_counts(dropna=False)"
   ]
  },
  {
   "cell_type": "markdown",
   "id": "62a1e3a6",
   "metadata": {},
   "source": [
    "#### All transactions are made in AUD. Can potentially drop this column because unnecessary since it does not provide us with any additional information."
   ]
  },
  {
   "cell_type": "markdown",
   "id": "1e795902",
   "metadata": {},
   "source": [
    "## Longitude and Latitude"
   ]
  },
  {
   "cell_type": "code",
   "execution_count": 14,
   "id": "f440405f",
   "metadata": {},
   "outputs": [
    {
     "data": {
      "text/plain": [
       "0    153.41 -27.95\n",
       "1    153.41 -27.95\n",
       "2    151.23 -33.94\n",
       "3    153.10 -27.66\n",
       "4    153.41 -27.95\n",
       "Name: long_lat, dtype: object"
      ]
     },
     "execution_count": 14,
     "metadata": {},
     "output_type": "execute_result"
    }
   ],
   "source": [
    "df.long_lat.head()"
   ]
  },
  {
   "cell_type": "markdown",
   "id": "4542132b",
   "metadata": {},
   "source": [
    "#### These are the coordinates where the transactions were made"
   ]
  },
  {
   "cell_type": "markdown",
   "id": "a53c38c9",
   "metadata": {},
   "source": [
    "## Transaction description (types of transactions)"
   ]
  },
  {
   "cell_type": "code",
   "execution_count": 15,
   "id": "43060e91",
   "metadata": {},
   "outputs": [
    {
     "data": {
      "text/plain": [
       "SALES-POS     3934\n",
       "POS           3783\n",
       "PAYMENT       2600\n",
       "PAY/SALARY     883\n",
       "INTER BANK     742\n",
       "PHONE BANK     101\n",
       "Name: txn_description, dtype: int64"
      ]
     },
     "execution_count": 15,
     "metadata": {},
     "output_type": "execute_result"
    }
   ],
   "source": [
    "df.txn_description.value_counts(dropna=False)"
   ]
  },
  {
   "cell_type": "code",
   "execution_count": 16,
   "id": "875529d0",
   "metadata": {},
   "outputs": [
    {
     "name": "stderr",
     "output_type": "stream",
     "text": [
      "C:\\ProgramData\\Anaconda3\\lib\\site-packages\\seaborn\\_decorators.py:36: FutureWarning: Pass the following variable as a keyword arg: x. From version 0.12, the only valid positional argument will be `data`, and passing other arguments without an explicit keyword will result in an error or misinterpretation.\n",
      "  warnings.warn(\n"
     ]
    },
    {
     "data": {
      "text/plain": [
       "Text(0.5, 1.0, 'Number of transactions by category')"
      ]
     },
     "execution_count": 16,
     "metadata": {},
     "output_type": "execute_result"
    },
    {
     "data": {
      "image/png": "[encoded data removed]",
      "text/plain": [
       "<Figure size 576x360 with 1 Axes>"
      ]
     },
     "metadata": {
      "needs_background": "light"
     },
     "output_type": "display_data"
    }
   ],
   "source": [
    "plt.figure(figsize=(8,5))\n",
    "sns.countplot(df.txn_description)\n",
    "plt.title('Number of transactions by category')"
   ]
  },
  {
   "cell_type": "markdown",
   "id": "eeddf65a",
   "metadata": {},
   "source": [
    "#### These are the descriptions for each transaction. Transactions mostly consist of sales payment.\n",
    "\n",
    "Also, this might explain the missing values in the merchant columns as not all transactions are purchases of goods and services from merchants. We can validate this later."
   ]
  },
  {
   "cell_type": "markdown",
   "id": "a6b7412c",
   "metadata": {},
   "source": [
    "## Analyze transaction vs amount"
   ]
  },
  {
   "cell_type": "code",
   "execution_count": 17,
   "id": "ddfa0ce2",
   "metadata": {},
   "outputs": [
    {
     "data": {
      "text/html": [
       "<div>\n",
       "<style scoped>\n",
       "    .dataframe tbody tr th:only-of-type {\n",
       "        vertical-align: middle;\n",
       "    }\n",
       "\n",
       "    .dataframe tbody tr th {\n",
       "        vertical-align: top;\n",
       "    }\n",
       "\n",
       "    .dataframe thead th {\n",
       "        text-align: right;\n",
       "    }\n",
       "</style>\n",
       "<table border=\"1\" class=\"dataframe\">\n",
       "  <thead>\n",
       "    <tr style=\"text-align: right;\">\n",
       "      <th></th>\n",
       "      <th>txn_description</th>\n",
       "      <th>amount</th>\n",
       "    </tr>\n",
       "  </thead>\n",
       "  <tbody>\n",
       "    <tr>\n",
       "      <th>1</th>\n",
       "      <td>PAY/SALARY</td>\n",
       "      <td>1898.728029</td>\n",
       "    </tr>\n",
       "    <tr>\n",
       "      <th>3</th>\n",
       "      <td>PHONE BANK</td>\n",
       "      <td>106.099010</td>\n",
       "    </tr>\n",
       "    <tr>\n",
       "      <th>0</th>\n",
       "      <td>INTER BANK</td>\n",
       "      <td>86.699461</td>\n",
       "    </tr>\n",
       "    <tr>\n",
       "      <th>2</th>\n",
       "      <td>PAYMENT</td>\n",
       "      <td>77.613077</td>\n",
       "    </tr>\n",
       "    <tr>\n",
       "      <th>4</th>\n",
       "      <td>POS</td>\n",
       "      <td>40.407412</td>\n",
       "    </tr>\n",
       "    <tr>\n",
       "      <th>5</th>\n",
       "      <td>SALES-POS</td>\n",
       "      <td>39.909789</td>\n",
       "    </tr>\n",
       "  </tbody>\n",
       "</table>\n",
       "</div>"
      ],
      "text/plain": [
       "  txn_description       amount\n",
       "1      PAY/SALARY  1898.728029\n",
       "3      PHONE BANK   106.099010\n",
       "0      INTER BANK    86.699461\n",
       "2         PAYMENT    77.613077\n",
       "4             POS    40.407412\n",
       "5       SALES-POS    39.909789"
      ]
     },
     "execution_count": 17,
     "metadata": {},
     "output_type": "execute_result"
    }
   ],
   "source": [
    "df[['txn_description','amount']].groupby('txn_description',as_index=False)['amount'].mean().sort_values('amount',ascending=False)"
   ]
  },
  {
   "cell_type": "code",
   "execution_count": 18,
   "id": "119da586",
   "metadata": {},
   "outputs": [
    {
     "data": {
      "text/plain": [
       "Text(0.5, 1.0, 'Average transaction by category')"
      ]
     },
     "execution_count": 18,
     "metadata": {},
     "output_type": "execute_result"
    },
    {
     "data": {
      "image/png": "[encoded data removed]",
      "text/plain": [
       "<Figure size 576x360 with 1 Axes>"
      ]
     },
     "metadata": {
      "needs_background": "light"
     },
     "output_type": "display_data"
    }
   ],
   "source": [
    "plt.figure(figsize=(8,5))\n",
    "sns.barplot(x=df.txn_description,y=df.amount)\n",
    "plt.title('Average transaction by category')"
   ]
  },
  {
   "cell_type": "markdown",
   "id": "c1d55683",
   "metadata": {},
   "source": [
    "#### Pay/salary has the largest average transaction volume."
   ]
  },
  {
   "cell_type": "markdown",
   "id": "8a0423a8",
   "metadata": {},
   "source": [
    "## Gender"
   ]
  },
  {
   "cell_type": "code",
   "execution_count": 19,
   "id": "94ee41d7",
   "metadata": {},
   "outputs": [
    {
     "data": {
      "text/plain": [
       "M    6285\n",
       "F    5758\n",
       "Name: gender, dtype: int64"
      ]
     },
     "execution_count": 19,
     "metadata": {},
     "output_type": "execute_result"
    }
   ],
   "source": [
    "df.gender.value_counts(dropna=False)"
   ]
  },
  {
   "cell_type": "code",
   "execution_count": 20,
   "id": "d5b9db21",
   "metadata": {},
   "outputs": [
    {
     "name": "stderr",
     "output_type": "stream",
     "text": [
      "C:\\ProgramData\\Anaconda3\\lib\\site-packages\\seaborn\\_decorators.py:36: FutureWarning: Pass the following variable as a keyword arg: x. From version 0.12, the only valid positional argument will be `data`, and passing other arguments without an explicit keyword will result in an error or misinterpretation.\n",
      "  warnings.warn(\n"
     ]
    },
    {
     "data": {
      "text/plain": [
       "Text(0.5, 1.0, 'Number of transactions by gender')"
      ]
     },
     "execution_count": 20,
     "metadata": {},
     "output_type": "execute_result"
    },
    {
     "data": {
      "image/png": "[encoded data removed]",
      "text/plain": [
       "<Figure size 432x288 with 1 Axes>"
      ]
     },
     "metadata": {
      "needs_background": "light"
     },
     "output_type": "display_data"
    }
   ],
   "source": [
    "sns.countplot(df.gender)\n",
    "plt.title('Number of transactions by gender')"
   ]
  },
  {
   "cell_type": "markdown",
   "id": "41e3801d",
   "metadata": {},
   "source": [
    "#### There are more male customer transactions than there are female."
   ]
  },
  {
   "cell_type": "code",
   "execution_count": 21,
   "id": "ba6ba62e",
   "metadata": {},
   "outputs": [
    {
     "data": {
      "text/html": [
       "<div>\n",
       "<style scoped>\n",
       "    .dataframe tbody tr th:only-of-type {\n",
       "        vertical-align: middle;\n",
       "    }\n",
       "\n",
       "    .dataframe tbody tr th {\n",
       "        vertical-align: top;\n",
       "    }\n",
       "\n",
       "    .dataframe thead th {\n",
       "        text-align: right;\n",
       "    }\n",
       "</style>\n",
       "<table border=\"1\" class=\"dataframe\">\n",
       "  <thead>\n",
       "    <tr style=\"text-align: right;\">\n",
       "      <th></th>\n",
       "      <th>gender</th>\n",
       "      <th>amount</th>\n",
       "    </tr>\n",
       "  </thead>\n",
       "  <tbody>\n",
       "    <tr>\n",
       "      <th>1</th>\n",
       "      <td>M</td>\n",
       "      <td>205.721809</td>\n",
       "    </tr>\n",
       "    <tr>\n",
       "      <th>0</th>\n",
       "      <td>F</td>\n",
       "      <td>168.517303</td>\n",
       "    </tr>\n",
       "  </tbody>\n",
       "</table>\n",
       "</div>"
      ],
      "text/plain": [
       "  gender      amount\n",
       "1      M  205.721809\n",
       "0      F  168.517303"
      ]
     },
     "execution_count": 21,
     "metadata": {},
     "output_type": "execute_result"
    }
   ],
   "source": [
    "df[['gender','amount']].groupby('gender',as_index=False).mean().sort_values('amount',ascending=False)"
   ]
  },
  {
   "cell_type": "code",
   "execution_count": 22,
   "id": "b250a5d7",
   "metadata": {},
   "outputs": [
    {
     "data": {
      "text/plain": [
       "Text(0.5, 1.0, 'Average transaction volume by gender')"
      ]
     },
     "execution_count": 22,
     "metadata": {},
     "output_type": "execute_result"
    },
    {
     "data": {
      "image/png": "[encoded data removed]",
      "text/plain": [
       "<Figure size 432x288 with 1 Axes>"
      ]
     },
     "metadata": {
      "needs_background": "light"
     },
     "output_type": "display_data"
    }
   ],
   "source": [
    "sns.barplot(x=df.gender,y=df.amount)\n",
    "plt.title(\"Average transaction volume by gender\")"
   ]
  },
  {
   "cell_type": "markdown",
   "id": "48e4679e",
   "metadata": {},
   "source": [
    "#### Male has a higher average transaction volume."
   ]
  },
  {
   "cell_type": "markdown",
   "id": "ceb684be",
   "metadata": {},
   "source": [
    "## Merchant suburb"
   ]
  },
  {
   "cell_type": "code",
   "execution_count": 23,
   "id": "3a0375b4",
   "metadata": {},
   "outputs": [
    {
     "data": {
      "text/plain": [
       "NaN                  4326\n",
       "Melbourne             255\n",
       "Sydney                233\n",
       "Southport              82\n",
       "Brisbane City          79\n",
       "                     ... \n",
       "Cowell                  1\n",
       "Tweed Heads South       1\n",
       "Ballandean              1\n",
       "Sydenham                1\n",
       "Kings Park              1\n",
       "Name: merchant_suburb, Length: 1610, dtype: int64"
      ]
     },
     "execution_count": 23,
     "metadata": {},
     "output_type": "execute_result"
    }
   ],
   "source": [
    "df.merchant_suburb.value_counts(dropna=False)"
   ]
  },
  {
   "cell_type": "markdown",
   "id": "a4cb7681",
   "metadata": {},
   "source": [
    "#### These are the suburbs where the transactions were made."
   ]
  },
  {
   "cell_type": "code",
   "execution_count": 24,
   "id": "46b2f8c6",
   "metadata": {},
   "outputs": [
    {
     "data": {
      "text/plain": [
       "NaN    4326\n",
       "NSW    2169\n",
       "VIC    2131\n",
       "QLD    1556\n",
       "WA     1100\n",
       "SA      415\n",
       "NT      205\n",
       "ACT      73\n",
       "TAS      68\n",
       "Name: merchant_state, dtype: int64"
      ]
     },
     "execution_count": 24,
     "metadata": {},
     "output_type": "execute_result"
    }
   ],
   "source": [
    "df.merchant_state.value_counts(dropna=False)"
   ]
  },
  {
   "cell_type": "code",
   "execution_count": 25,
   "id": "1996b9c9",
   "metadata": {},
   "outputs": [
    {
     "name": "stderr",
     "output_type": "stream",
     "text": [
      "C:\\ProgramData\\Anaconda3\\lib\\site-packages\\seaborn\\_decorators.py:36: FutureWarning: Pass the following variable as a keyword arg: x. From version 0.12, the only valid positional argument will be `data`, and passing other arguments without an explicit keyword will result in an error or misinterpretation.\n",
      "  warnings.warn(\n"
     ]
    },
    {
     "data": {
      "text/plain": [
       "Text(0.5, 1.0, 'Number of transactions by state')"
      ]
     },
     "execution_count": 25,
     "metadata": {},
     "output_type": "execute_result"
    },
    {
     "data": {
      "image/png": "[encoded data removed]",
      "text/plain": [
       "<Figure size 576x360 with 1 Axes>"
      ]
     },
     "metadata": {
      "needs_background": "light"
     },
     "output_type": "display_data"
    }
   ],
   "source": [
    "plt.figure(figsize=(8,5))\n",
    "sns.countplot(df.merchant_state)\n",
    "plt.title('Number of transactions by state')"
   ]
  },
  {
   "cell_type": "markdown",
   "id": "f325e58b",
   "metadata": {},
   "source": [
    "#### Similar to merchant suburb, these are the states where the transactions were made.\n",
    "\n",
    "NSW and VIC are the top 2 states in number of transactions. (New South Wales and Victoria )"
   ]
  },
  {
   "cell_type": "code",
   "execution_count": 26,
   "id": "820ce831",
   "metadata": {},
   "outputs": [
    {
     "data": {
      "text/html": [
       "<div>\n",
       "<style scoped>\n",
       "    .dataframe tbody tr th:only-of-type {\n",
       "        vertical-align: middle;\n",
       "    }\n",
       "\n",
       "    .dataframe tbody tr th {\n",
       "        vertical-align: top;\n",
       "    }\n",
       "\n",
       "    .dataframe thead th {\n",
       "        text-align: right;\n",
       "    }\n",
       "</style>\n",
       "<table border=\"1\" class=\"dataframe\">\n",
       "  <thead>\n",
       "    <tr style=\"text-align: right;\">\n",
       "      <th></th>\n",
       "      <th>merchant_state</th>\n",
       "      <th>amount</th>\n",
       "    </tr>\n",
       "  </thead>\n",
       "  <tbody>\n",
       "    <tr>\n",
       "      <th>0</th>\n",
       "      <td>ACT</td>\n",
       "      <td>66.803836</td>\n",
       "    </tr>\n",
       "    <tr>\n",
       "      <th>1</th>\n",
       "      <td>NSW</td>\n",
       "      <td>47.036316</td>\n",
       "    </tr>\n",
       "    <tr>\n",
       "      <th>2</th>\n",
       "      <td>NT</td>\n",
       "      <td>44.726293</td>\n",
       "    </tr>\n",
       "    <tr>\n",
       "      <th>6</th>\n",
       "      <td>VIC</td>\n",
       "      <td>41.099953</td>\n",
       "    </tr>\n",
       "    <tr>\n",
       "      <th>4</th>\n",
       "      <td>SA</td>\n",
       "      <td>40.425470</td>\n",
       "    </tr>\n",
       "    <tr>\n",
       "      <th>3</th>\n",
       "      <td>QLD</td>\n",
       "      <td>34.372397</td>\n",
       "    </tr>\n",
       "    <tr>\n",
       "      <th>7</th>\n",
       "      <td>WA</td>\n",
       "      <td>30.901873</td>\n",
       "    </tr>\n",
       "    <tr>\n",
       "      <th>5</th>\n",
       "      <td>TAS</td>\n",
       "      <td>28.866618</td>\n",
       "    </tr>\n",
       "  </tbody>\n",
       "</table>\n",
       "</div>"
      ],
      "text/plain": [
       "  merchant_state     amount\n",
       "0            ACT  66.803836\n",
       "1            NSW  47.036316\n",
       "2             NT  44.726293\n",
       "6            VIC  41.099953\n",
       "4             SA  40.425470\n",
       "3            QLD  34.372397\n",
       "7             WA  30.901873\n",
       "5            TAS  28.866618"
      ]
     },
     "execution_count": 26,
     "metadata": {},
     "output_type": "execute_result"
    }
   ],
   "source": [
    "df[['merchant_state','amount']].groupby('merchant_state',as_index=False).mean().sort_values('amount',ascending=False)"
   ]
  },
  {
   "cell_type": "code",
   "execution_count": 27,
   "id": "c47c5056",
   "metadata": {},
   "outputs": [
    {
     "data": {
      "text/plain": [
       "Text(0.5, 1.0, 'Average transaction volume by state')"
      ]
     },
     "execution_count": 27,
     "metadata": {},
     "output_type": "execute_result"
    },
    {
     "data": {
      "image/png": "[encoded data removed]",
      "text/plain": [
       "<Figure size 576x360 with 1 Axes>"
      ]
     },
     "metadata": {
      "needs_background": "light"
     },
     "output_type": "display_data"
    }
   ],
   "source": [
    "plt.figure(figsize=(8,5))\n",
    "sns.barplot(x=df.merchant_state,y=df.amount)\n",
    "plt.title('Average transaction volume by state')"
   ]
  },
  {
   "cell_type": "markdown",
   "id": "39d0cc3d",
   "metadata": {},
   "source": [
    "#### ACT has the highest average transaction volume but the variance is quite large. This indicates which state not only made more transactions but the amounts they spend during their transactions."
   ]
  },
  {
   "cell_type": "code",
   "execution_count": 28,
   "id": "e224189f",
   "metadata": {},
   "outputs": [
    {
     "data": {
      "text/plain": [
       "0    2018-08-01T01:01:15.000+0000\n",
       "1    2018-08-01T01:13:45.000+0000\n",
       "2    2018-08-01T01:26:15.000+0000\n",
       "3    2018-08-01T01:38:45.000+0000\n",
       "4    2018-08-01T01:51:15.000+0000\n",
       "Name: extraction, dtype: object"
      ]
     },
     "execution_count": 28,
     "metadata": {},
     "output_type": "execute_result"
    }
   ],
   "source": [
    "df.extraction.head()"
   ]
  },
  {
   "cell_type": "markdown",
   "id": "b6741bce",
   "metadata": {},
   "source": [
    "#### This appears to be the timestamp for each transaction. We can cross-reference this with the date column."
   ]
  },
  {
   "cell_type": "code",
   "execution_count": 29,
   "id": "c270c5f1",
   "metadata": {},
   "outputs": [
    {
     "data": {
      "text/html": [
       "<div>\n",
       "<style scoped>\n",
       "    .dataframe tbody tr th:only-of-type {\n",
       "        vertical-align: middle;\n",
       "    }\n",
       "\n",
       "    .dataframe tbody tr th {\n",
       "        vertical-align: top;\n",
       "    }\n",
       "\n",
       "    .dataframe thead th {\n",
       "        text-align: right;\n",
       "    }\n",
       "</style>\n",
       "<table border=\"1\" class=\"dataframe\">\n",
       "  <thead>\n",
       "    <tr style=\"text-align: right;\">\n",
       "      <th></th>\n",
       "      <th>date</th>\n",
       "      <th>extraction</th>\n",
       "    </tr>\n",
       "  </thead>\n",
       "  <tbody>\n",
       "    <tr>\n",
       "      <th>0</th>\n",
       "      <td>01-08-2018</td>\n",
       "      <td>2018-08-01T01:01:15.000+0000</td>\n",
       "    </tr>\n",
       "    <tr>\n",
       "      <th>1</th>\n",
       "      <td>01-08-2018</td>\n",
       "      <td>2018-08-01T01:13:45.000+0000</td>\n",
       "    </tr>\n",
       "    <tr>\n",
       "      <th>2</th>\n",
       "      <td>01-08-2018</td>\n",
       "      <td>2018-08-01T01:26:15.000+0000</td>\n",
       "    </tr>\n",
       "    <tr>\n",
       "      <th>3</th>\n",
       "      <td>01-08-2018</td>\n",
       "      <td>2018-08-01T01:38:45.000+0000</td>\n",
       "    </tr>\n",
       "    <tr>\n",
       "      <th>4</th>\n",
       "      <td>01-08-2018</td>\n",
       "      <td>2018-08-01T01:51:15.000+0000</td>\n",
       "    </tr>\n",
       "  </tbody>\n",
       "</table>\n",
       "</div>"
      ],
      "text/plain": [
       "         date                    extraction\n",
       "0  01-08-2018  2018-08-01T01:01:15.000+0000\n",
       "1  01-08-2018  2018-08-01T01:13:45.000+0000\n",
       "2  01-08-2018  2018-08-01T01:26:15.000+0000\n",
       "3  01-08-2018  2018-08-01T01:38:45.000+0000\n",
       "4  01-08-2018  2018-08-01T01:51:15.000+0000"
      ]
     },
     "execution_count": 29,
     "metadata": {},
     "output_type": "execute_result"
    }
   ],
   "source": [
    "df[[\"date\", \"extraction\"]].head()"
   ]
  },
  {
   "cell_type": "markdown",
   "id": "efab1e85",
   "metadata": {},
   "source": [
    "#### Since we already have an existing date column, we can potentially extract only the time component out of the extraction column."
   ]
  },
  {
   "cell_type": "markdown",
   "id": "97b3443a",
   "metadata": {},
   "source": [
    "## Merchant Longitude and Latitude"
   ]
  },
  {
   "cell_type": "code",
   "execution_count": 30,
   "id": "529824de",
   "metadata": {},
   "outputs": [
    {
     "data": {
      "text/plain": [
       "0    153.38 -27.99\n",
       "1    151.21 -33.87\n",
       "2    151.21 -33.87\n",
       "3    153.05 -26.68\n",
       "4    153.44 -28.06\n",
       "Name: merchant_long_lat, dtype: object"
      ]
     },
     "execution_count": 30,
     "metadata": {},
     "output_type": "execute_result"
    }
   ],
   "source": [
    "df.merchant_long_lat.head()"
   ]
  },
  {
   "cell_type": "markdown",
   "id": "6f7115ae",
   "metadata": {},
   "source": [
    "## Movement (debit/credit)"
   ]
  },
  {
   "cell_type": "code",
   "execution_count": 31,
   "id": "6bedd3b2",
   "metadata": {},
   "outputs": [
    {
     "data": {
      "text/plain": [
       "debit     11160\n",
       "credit      883\n",
       "Name: movement, dtype: int64"
      ]
     },
     "execution_count": 31,
     "metadata": {},
     "output_type": "execute_result"
    }
   ],
   "source": [
    "df.movement.value_counts(dropna=False)"
   ]
  },
  {
   "cell_type": "code",
   "execution_count": 32,
   "id": "5ca956e1",
   "metadata": {},
   "outputs": [
    {
     "name": "stderr",
     "output_type": "stream",
     "text": [
      "C:\\ProgramData\\Anaconda3\\lib\\site-packages\\seaborn\\_decorators.py:36: FutureWarning: Pass the following variable as a keyword arg: x. From version 0.12, the only valid positional argument will be `data`, and passing other arguments without an explicit keyword will result in an error or misinterpretation.\n",
      "  warnings.warn(\n"
     ]
    },
    {
     "data": {
      "text/plain": [
       "Text(0.5, 1.0, 'Number of transactions by movement')"
      ]
     },
     "execution_count": 32,
     "metadata": {},
     "output_type": "execute_result"
    },
    {
     "data": {
      "image/png": "[encoded data removed]",
      "text/plain": [
       "<Figure size 432x288 with 1 Axes>"
      ]
     },
     "metadata": {
      "needs_background": "light"
     },
     "output_type": "display_data"
    }
   ],
   "source": [
    "sns.countplot(df.movement)\n",
    "plt.title('Number of transactions by movement')"
   ]
  },
  {
   "cell_type": "markdown",
   "id": "b8476033",
   "metadata": {},
   "source": [
    "#### Most transactions are overwhelmingly debit transactions."
   ]
  },
  {
   "cell_type": "code",
   "execution_count": 33,
   "id": "5e861c28",
   "metadata": {},
   "outputs": [
    {
     "data": {
      "text/plain": [
       "Text(0.5, 1.0, 'Average transaction volume by movement')"
      ]
     },
     "execution_count": 33,
     "metadata": {},
     "output_type": "execute_result"
    },
    {
     "data": {
      "image/png": "[encoded data removed]",
      "text/plain": [
       "<Figure size 360x432 with 1 Axes>"
      ]
     },
     "metadata": {
      "needs_background": "light"
     },
     "output_type": "display_data"
    }
   ],
   "source": [
    "plt.figure(figsize=(5,6))\n",
    "sns.barplot(x=df.movement,y=df.amount)\n",
    "plt.title('Average transaction volume by movement')"
   ]
  },
  {
   "cell_type": "markdown",
   "id": "898013c2",
   "metadata": {},
   "source": [
    "#### However, the average transaction amount for credit transactions are much higher."
   ]
  },
  {
   "cell_type": "markdown",
   "id": "64f84378",
   "metadata": {},
   "source": [
    "## Numerical variables"
   ]
  },
  {
   "cell_type": "markdown",
   "id": "8b2b40ae",
   "metadata": {},
   "source": [
    "### Balance"
   ]
  },
  {
   "cell_type": "code",
   "execution_count": 34,
   "id": "8aeb0551",
   "metadata": {},
   "outputs": [
    {
     "name": "stderr",
     "output_type": "stream",
     "text": [
      "C:\\ProgramData\\Anaconda3\\lib\\site-packages\\seaborn\\distributions.py:2619: FutureWarning: `distplot` is a deprecated function and will be removed in a future version. Please adapt your code to use either `displot` (a figure-level function with similar flexibility) or `histplot` (an axes-level function for histograms).\n",
      "  warnings.warn(msg, FutureWarning)\n"
     ]
    },
    {
     "data": {
      "text/plain": [
       "Text(0.5, 1.0, 'Balance distribution')"
      ]
     },
     "execution_count": 34,
     "metadata": {},
     "output_type": "execute_result"
    },
    {
     "data": {
      "image/png": "[encoded data removed]",
      "text/plain": [
       "<Figure size 576x360 with 1 Axes>"
      ]
     },
     "metadata": {
      "needs_background": "light"
     },
     "output_type": "display_data"
    }
   ],
   "source": [
    "plt.figure(figsize = (8, 5))\n",
    "sns.distplot(df.balance)\n",
    "plt.title(\"Balance distribution\")"
   ]
  },
  {
   "cell_type": "code",
   "execution_count": 35,
   "id": "dd6b0b52",
   "metadata": {},
   "outputs": [
    {
     "name": "stderr",
     "output_type": "stream",
     "text": [
      "C:\\ProgramData\\Anaconda3\\lib\\site-packages\\seaborn\\_decorators.py:36: FutureWarning: Pass the following variable as a keyword arg: x. From version 0.12, the only valid positional argument will be `data`, and passing other arguments without an explicit keyword will result in an error or misinterpretation.\n",
      "  warnings.warn(\n"
     ]
    },
    {
     "data": {
      "text/plain": [
       "<AxesSubplot:xlabel='balance'>"
      ]
     },
     "execution_count": 35,
     "metadata": {},
     "output_type": "execute_result"
    },
    {
     "data": {
      "image/png": "[encoded data removed]",
      "text/plain": [
       "<Figure size 864x288 with 1 Axes>"
      ]
     },
     "metadata": {
      "needs_background": "light"
     },
     "output_type": "display_data"
    }
   ],
   "source": [
    "plt.figure(figsize = (12, 4))\n",
    "sns.boxplot(df.balance)"
   ]
  },
  {
   "cell_type": "markdown",
   "id": "011214c4",
   "metadata": {},
   "source": [
    "#### Distribution of the balance feature has a long tail."
   ]
  },
  {
   "cell_type": "markdown",
   "id": "5d42b214",
   "metadata": {},
   "source": [
    "### Age of customers"
   ]
  },
  {
   "cell_type": "code",
   "execution_count": 36,
   "id": "ac8033af",
   "metadata": {},
   "outputs": [
    {
     "name": "stderr",
     "output_type": "stream",
     "text": [
      "C:\\ProgramData\\Anaconda3\\lib\\site-packages\\seaborn\\distributions.py:2619: FutureWarning: `distplot` is a deprecated function and will be removed in a future version. Please adapt your code to use either `displot` (a figure-level function with similar flexibility) or `histplot` (an axes-level function for histograms).\n",
      "  warnings.warn(msg, FutureWarning)\n"
     ]
    },
    {
     "data": {
      "text/plain": [
       "Text(0.5, 1.0, 'Age distribution')"
      ]
     },
     "execution_count": 36,
     "metadata": {},
     "output_type": "execute_result"
    },
    {
     "data": {
      "image/png": "[encoded data removed]",
      "text/plain": [
       "<Figure size 576x360 with 1 Axes>"
      ]
     },
     "metadata": {
      "needs_background": "light"
     },
     "output_type": "display_data"
    }
   ],
   "source": [
    "plt.figure(figsize = (8, 5))\n",
    "sns.distplot(df.age)\n",
    "plt.title(\"Age distribution\")"
   ]
  },
  {
   "cell_type": "markdown",
   "id": "35ec6bb8",
   "metadata": {},
   "source": [
    "#### Majority of the customers belong in the 20-25 age bracket."
   ]
  },
  {
   "cell_type": "markdown",
   "id": "3ae84b5e",
   "metadata": {},
   "source": [
    "### Transaction amount"
   ]
  },
  {
   "cell_type": "code",
   "execution_count": 37,
   "id": "8636c3d8",
   "metadata": {},
   "outputs": [
    {
     "name": "stderr",
     "output_type": "stream",
     "text": [
      "C:\\ProgramData\\Anaconda3\\lib\\site-packages\\seaborn\\distributions.py:2619: FutureWarning: `distplot` is a deprecated function and will be removed in a future version. Please adapt your code to use either `displot` (a figure-level function with similar flexibility) or `histplot` (an axes-level function for histograms).\n",
      "  warnings.warn(msg, FutureWarning)\n"
     ]
    },
    {
     "data": {
      "text/plain": [
       "Text(0.5, 1.0, 'Amount distribution')"
      ]
     },
     "execution_count": 37,
     "metadata": {},
     "output_type": "execute_result"
    },
    {
     "data": {
      "image/png": "[encoded data removed]",
      "text/plain": [
       "<Figure size 576x360 with 1 Axes>"
      ]
     },
     "metadata": {
      "needs_background": "light"
     },
     "output_type": "display_data"
    }
   ],
   "source": [
    "plt.figure(figsize = (8, 5))\n",
    "sns.distplot(df.amount)\n",
    "plt.title(\"Amount distribution\")"
   ]
  },
  {
   "cell_type": "markdown",
   "id": "13223ed9",
   "metadata": {},
   "source": [
    "# Feature Engineering"
   ]
  },
  {
   "cell_type": "markdown",
   "id": "6973f299",
   "metadata": {},
   "source": [
    "#### In this section, we are going to focus on dropping unwanted columns, deal with missing values and finally create some additional features that will make our data analysis more detailed and robust."
   ]
  },
  {
   "cell_type": "markdown",
   "id": "341c1cee",
   "metadata": {},
   "source": [
    "### Drop Unwanted Columns"
   ]
  },
  {
   "cell_type": "code",
   "execution_count": 38,
   "id": "6d13fc71",
   "metadata": {},
   "outputs": [
    {
     "name": "stdout",
     "output_type": "stream",
     "text": [
      "Before:  (12043, 23)\n",
      "After:  (12043, 21)\n"
     ]
    }
   ],
   "source": [
    "print(\"Before: \", df.shape)\n",
    "df = df.drop([\"currency\", \"country\"], axis = 1)\n",
    "print(\"After: \", df.shape)"
   ]
  },
  {
   "cell_type": "markdown",
   "id": "a45343fe",
   "metadata": {},
   "source": [
    "### Deal with missing values"
   ]
  },
  {
   "cell_type": "code",
   "execution_count": 39,
   "id": "0e7187b9",
   "metadata": {},
   "outputs": [
    {
     "data": {
      "text/html": [
       "<div>\n",
       "<style scoped>\n",
       "    .dataframe tbody tr th:only-of-type {\n",
       "        vertical-align: middle;\n",
       "    }\n",
       "\n",
       "    .dataframe tbody tr th {\n",
       "        vertical-align: top;\n",
       "    }\n",
       "\n",
       "    .dataframe thead th {\n",
       "        text-align: right;\n",
       "    }\n",
       "</style>\n",
       "<table border=\"1\" class=\"dataframe\">\n",
       "  <thead>\n",
       "    <tr style=\"text-align: right;\">\n",
       "      <th></th>\n",
       "      <th>Number of missing values</th>\n",
       "      <th>Percentage</th>\n",
       "    </tr>\n",
       "  </thead>\n",
       "  <tbody>\n",
       "    <tr>\n",
       "      <th>bpay_biller_code</th>\n",
       "      <td>11158</td>\n",
       "      <td>92.7</td>\n",
       "    </tr>\n",
       "    <tr>\n",
       "      <th>merchant_code</th>\n",
       "      <td>11160</td>\n",
       "      <td>92.7</td>\n",
       "    </tr>\n",
       "    <tr>\n",
       "      <th>card_present_flag</th>\n",
       "      <td>4326</td>\n",
       "      <td>35.9</td>\n",
       "    </tr>\n",
       "    <tr>\n",
       "      <th>merchant_id</th>\n",
       "      <td>4326</td>\n",
       "      <td>35.9</td>\n",
       "    </tr>\n",
       "    <tr>\n",
       "      <th>merchant_suburb</th>\n",
       "      <td>4326</td>\n",
       "      <td>35.9</td>\n",
       "    </tr>\n",
       "    <tr>\n",
       "      <th>merchant_state</th>\n",
       "      <td>4326</td>\n",
       "      <td>35.9</td>\n",
       "    </tr>\n",
       "    <tr>\n",
       "      <th>merchant_long_lat</th>\n",
       "      <td>4326</td>\n",
       "      <td>35.9</td>\n",
       "    </tr>\n",
       "  </tbody>\n",
       "</table>\n",
       "</div>"
      ],
      "text/plain": [
       "                   Number of missing values  Percentage\n",
       "bpay_biller_code                      11158        92.7\n",
       "merchant_code                         11160        92.7\n",
       "card_present_flag                      4326        35.9\n",
       "merchant_id                            4326        35.9\n",
       "merchant_suburb                        4326        35.9\n",
       "merchant_state                         4326        35.9\n",
       "merchant_long_lat                      4326        35.9"
      ]
     },
     "execution_count": 39,
     "metadata": {},
     "output_type": "execute_result"
    }
   ],
   "source": [
    "missing = df.isnull().sum()\n",
    "missing = missing[missing > 0]\n",
    "missing_percentage = round(missing / len(df), 3) * 100\n",
    "pd.DataFrame({\"Number of missing values\": missing, \"Percentage\": missing_percentage}).sort_values(by = \"Percentage\", ascending = False)"
   ]
  },
  {
   "cell_type": "markdown",
   "id": "0f24bbde",
   "metadata": {},
   "source": [
    "#### Let's investigate if there is a reason behind these missing values.\n",
    "\n",
    "Recall that not all transactions are purchases-related, could this imply the missing values in the merchant columns?"
   ]
  },
  {
   "cell_type": "code",
   "execution_count": 40,
   "id": "6d654b10",
   "metadata": {},
   "outputs": [
    {
     "data": {
      "text/plain": [
       "merchant_code        11160\n",
       "bpay_biller_code     11158\n",
       "merchant_suburb       4326\n",
       "merchant_long_lat     4326\n",
       "merchant_id           4326\n",
       "card_present_flag     4326\n",
       "merchant_state        4326\n",
       "status                   0\n",
       "customer_id              0\n",
       "transaction_id           0\n",
       "amount                   0\n",
       "extraction               0\n",
       "date                     0\n",
       "age                      0\n",
       "gender                   0\n",
       "balance                  0\n",
       "first_name               0\n",
       "txn_description          0\n",
       "long_lat                 0\n",
       "account                  0\n",
       "movement                 0\n",
       "dtype: int64"
      ]
     },
     "execution_count": 40,
     "metadata": {},
     "output_type": "execute_result"
    }
   ],
   "source": [
    "nonSales = df.loc[(df.txn_description != \"SALES-POS\") | (df.txn_description != \"POS\"), :]\n",
    "nonSales.isnull().sum().sort_values(ascending = False)"
   ]
  },
  {
   "cell_type": "markdown",
   "id": "831f0b65",
   "metadata": {},
   "source": [
    "#### As expected, missing values in the following columns all originate from non-purchases transactions:\n",
    "\n",
    "card_present_flag\n",
    "\n",
    "merchant_state\n",
    "\n",
    "merchant_suburb\n",
    "\n",
    "merchant_id\n",
    "\n",
    "merchant_long_lat\n",
    "\n",
    "We will proceed to fill these missing values with n/a."
   ]
  },
  {
   "cell_type": "code",
   "execution_count": 41,
   "id": "31dd642e",
   "metadata": {},
   "outputs": [],
   "source": [
    "cols = [\"card_present_flag\", \"merchant_state\", \"merchant_suburb\", \"merchant_id\", \"merchant_long_lat\"]\n",
    "for col in cols:\n",
    "    df[col].fillna(\"n/a\", inplace = True)"
   ]
  },
  {
   "cell_type": "code",
   "execution_count": 42,
   "id": "efbd702d",
   "metadata": {},
   "outputs": [
    {
     "data": {
      "text/plain": [
       "merchant_code       11160\n",
       "bpay_biller_code    11158\n",
       "dtype: int64"
      ]
     },
     "execution_count": 42,
     "metadata": {},
     "output_type": "execute_result"
    }
   ],
   "source": [
    "missing = df.isnull().sum()\n",
    "missing = missing[missing > 0]\n",
    "missing.sort_values(ascending = False)"
   ]
  },
  {
   "cell_type": "markdown",
   "id": "c06c9d6b",
   "metadata": {},
   "source": [
    "#### Both merchant_code and bpay_biller_code are severely missing, around 93%. Therefore, we will drop those 2 columns from the dataframe.\n",
    "\n"
   ]
  },
  {
   "cell_type": "code",
   "execution_count": 43,
   "id": "a25578ba",
   "metadata": {},
   "outputs": [],
   "source": [
    "df = df.drop([\"merchant_code\", \"bpay_biller_code\"], axis = 1)"
   ]
  },
  {
   "cell_type": "markdown",
   "id": "7faf9802",
   "metadata": {},
   "source": [
    "#### Now, make sure there are no more missing data."
   ]
  },
  {
   "cell_type": "code",
   "execution_count": 44,
   "id": "1f34f807",
   "metadata": {},
   "outputs": [
    {
     "data": {
      "text/plain": [
       "0"
      ]
     },
     "execution_count": 44,
     "metadata": {},
     "output_type": "execute_result"
    }
   ],
   "source": [
    "df.isnull().sum().max()"
   ]
  },
  {
   "cell_type": "markdown",
   "id": "3ac0bee9",
   "metadata": {},
   "source": [
    "## Create features for month, dayofweek and hour"
   ]
  },
  {
   "cell_type": "code",
   "execution_count": 45,
   "id": "e98e002b",
   "metadata": {},
   "outputs": [],
   "source": [
    "df['date']=[a.split('T')[0] for a in df.extraction]"
   ]
  },
  {
   "cell_type": "code",
   "execution_count": 46,
   "id": "32873a9a",
   "metadata": {},
   "outputs": [
    {
     "data": {
      "text/html": [
       "<div>\n",
       "<style scoped>\n",
       "    .dataframe tbody tr th:only-of-type {\n",
       "        vertical-align: middle;\n",
       "    }\n",
       "\n",
       "    .dataframe tbody tr th {\n",
       "        vertical-align: top;\n",
       "    }\n",
       "\n",
       "    .dataframe thead th {\n",
       "        text-align: right;\n",
       "    }\n",
       "</style>\n",
       "<table border=\"1\" class=\"dataframe\">\n",
       "  <thead>\n",
       "    <tr style=\"text-align: right;\">\n",
       "      <th></th>\n",
       "      <th>amount</th>\n",
       "    </tr>\n",
       "    <tr>\n",
       "      <th>date</th>\n",
       "      <th></th>\n",
       "    </tr>\n",
       "  </thead>\n",
       "  <tbody>\n",
       "    <tr>\n",
       "      <th>2018-08-01</th>\n",
       "      <td>29867.94</td>\n",
       "    </tr>\n",
       "    <tr>\n",
       "      <th>2018-08-02</th>\n",
       "      <td>21786.32</td>\n",
       "    </tr>\n",
       "    <tr>\n",
       "      <th>2018-08-03</th>\n",
       "      <td>38096.58</td>\n",
       "    </tr>\n",
       "    <tr>\n",
       "      <th>2018-08-04</th>\n",
       "      <td>6296.05</td>\n",
       "    </tr>\n",
       "    <tr>\n",
       "      <th>2018-08-05</th>\n",
       "      <td>4426.50</td>\n",
       "    </tr>\n",
       "  </tbody>\n",
       "</table>\n",
       "</div>"
      ],
      "text/plain": [
       "              amount\n",
       "date                \n",
       "2018-08-01  29867.94\n",
       "2018-08-02  21786.32\n",
       "2018-08-03  38096.58\n",
       "2018-08-04   6296.05\n",
       "2018-08-05   4426.50"
      ]
     },
     "execution_count": 46,
     "metadata": {},
     "output_type": "execute_result"
    }
   ],
   "source": [
    "daily_amount = pd.DataFrame(df.groupby(\"date\").amount.sum())\n",
    "daily_amount.sort_values(by='date')\n",
    "daily_amount.head()"
   ]
  },
  {
   "cell_type": "code",
   "execution_count": 47,
   "id": "d5f1ac8d",
   "metadata": {},
   "outputs": [
    {
     "data": {
      "text/plain": [
       "Text(0, 0.5, 'Transaction volume')"
      ]
     },
     "execution_count": 47,
     "metadata": {},
     "output_type": "execute_result"
    },
    {
     "data": {
      "image/png": "[encoded data removed]",
      "text/plain": [
       "<Figure size 864x360 with 1 Axes>"
      ]
     },
     "metadata": {
      "needs_background": "light"
     },
     "output_type": "display_data"
    }
   ],
   "source": [
    "plt.figure(figsize = (12, 5))\n",
    "plt.plot(daily_amount.index,daily_amount.amount)\n",
    "plt.xticks(np.arange(0,100,10))\n",
    "plt.title(\"Transaction volume from 1/8/2018 to 31/10/2018\")\n",
    "plt.xlabel(\"Date\")\n",
    "plt.ylabel(\"Transaction volume\")"
   ]
  },
  {
   "cell_type": "markdown",
   "id": "ff16be39",
   "metadata": {},
   "source": [
    "#### \n",
    "There appears to be a cyclical pattern in transaction volume over the 3 month period. My hypothesis for this occurence is:\n",
    "\n",
    "Salaries are paid out only on certain days of the week\n",
    "\n",
    "People tend to spend more during the weekends (shopping, going out with friends etc)\n",
    "\n",
    "Therefore, to motivate this analysis, we will create 3 new features from both the date and extraction columns:\n",
    "\n",
    "month\n",
    "\n",
    "dayofweek\n",
    "\n",
    "hour"
   ]
  },
  {
   "cell_type": "code",
   "execution_count": 48,
   "id": "fead4f7c",
   "metadata": {},
   "outputs": [
    {
     "data": {
      "text/html": [
       "<div>\n",
       "<style scoped>\n",
       "    .dataframe tbody tr th:only-of-type {\n",
       "        vertical-align: middle;\n",
       "    }\n",
       "\n",
       "    .dataframe tbody tr th {\n",
       "        vertical-align: top;\n",
       "    }\n",
       "\n",
       "    .dataframe thead th {\n",
       "        text-align: right;\n",
       "    }\n",
       "</style>\n",
       "<table border=\"1\" class=\"dataframe\">\n",
       "  <thead>\n",
       "    <tr style=\"text-align: right;\">\n",
       "      <th></th>\n",
       "      <th>date</th>\n",
       "      <th>month</th>\n",
       "      <th>dayofweek</th>\n",
       "    </tr>\n",
       "  </thead>\n",
       "  <tbody>\n",
       "    <tr>\n",
       "      <th>0</th>\n",
       "      <td>2018-08-01</td>\n",
       "      <td>8</td>\n",
       "      <td>2</td>\n",
       "    </tr>\n",
       "    <tr>\n",
       "      <th>1</th>\n",
       "      <td>2018-08-01</td>\n",
       "      <td>8</td>\n",
       "      <td>2</td>\n",
       "    </tr>\n",
       "    <tr>\n",
       "      <th>2</th>\n",
       "      <td>2018-08-01</td>\n",
       "      <td>8</td>\n",
       "      <td>2</td>\n",
       "    </tr>\n",
       "    <tr>\n",
       "      <th>3</th>\n",
       "      <td>2018-08-01</td>\n",
       "      <td>8</td>\n",
       "      <td>2</td>\n",
       "    </tr>\n",
       "    <tr>\n",
       "      <th>4</th>\n",
       "      <td>2018-08-01</td>\n",
       "      <td>8</td>\n",
       "      <td>2</td>\n",
       "    </tr>\n",
       "  </tbody>\n",
       "</table>\n",
       "</div>"
      ],
      "text/plain": [
       "         date  month  dayofweek\n",
       "0  2018-08-01      8          2\n",
       "1  2018-08-01      8          2\n",
       "2  2018-08-01      8          2\n",
       "3  2018-08-01      8          2\n",
       "4  2018-08-01      8          2"
      ]
     },
     "execution_count": 48,
     "metadata": {},
     "output_type": "execute_result"
    }
   ],
   "source": [
    "df[\"month\"] = pd.DatetimeIndex(df.date).month\n",
    "df[\"dayofweek\"] = pd.DatetimeIndex(df.date).dayofweek\n",
    "df[[\"date\", \"month\", \"dayofweek\"]].head()"
   ]
  },
  {
   "cell_type": "markdown",
   "id": "4ccfd5ee",
   "metadata": {},
   "source": [
    "#### \n",
    "In addition to month and day of week, we can also get the hour in which those transactions took place from the extraction column.\n",
    "\n",
    "First, I will update the extraction column such that it only contains the time. Then, I will create a new hour column which contains only the hour component of each transaction."
   ]
  },
  {
   "cell_type": "code",
   "execution_count": 49,
   "id": "f2ffc70c",
   "metadata": {},
   "outputs": [
    {
     "data": {
      "text/plain": [
       "0    2018-08-01T01:01:15.000+0000\n",
       "1    2018-08-01T01:13:45.000+0000\n",
       "2    2018-08-01T01:26:15.000+0000\n",
       "3    2018-08-01T01:38:45.000+0000\n",
       "4    2018-08-01T01:51:15.000+0000\n",
       "Name: extraction, dtype: object"
      ]
     },
     "execution_count": 49,
     "metadata": {},
     "output_type": "execute_result"
    }
   ],
   "source": [
    "df.extraction.head()"
   ]
  },
  {
   "cell_type": "code",
   "execution_count": 50,
   "id": "79c2d63a",
   "metadata": {},
   "outputs": [
    {
     "data": {
      "text/plain": [
       "0    01:01:15\n",
       "1    01:13:45\n",
       "2    01:26:15\n",
       "3    01:38:45\n",
       "4    01:51:15\n",
       "Name: extraction, dtype: object"
      ]
     },
     "execution_count": 50,
     "metadata": {},
     "output_type": "execute_result"
    }
   ],
   "source": [
    "df[\"extraction\"] = [timestamp.split(\"T\")[1].split(\".\")[0] for timestamp in df.extraction]\n",
    "df.extraction.head()"
   ]
  },
  {
   "cell_type": "code",
   "execution_count": 51,
   "id": "5e6b3cda",
   "metadata": {},
   "outputs": [
    {
     "data": {
      "text/html": [
       "<div>\n",
       "<style scoped>\n",
       "    .dataframe tbody tr th:only-of-type {\n",
       "        vertical-align: middle;\n",
       "    }\n",
       "\n",
       "    .dataframe tbody tr th {\n",
       "        vertical-align: top;\n",
       "    }\n",
       "\n",
       "    .dataframe thead th {\n",
       "        text-align: right;\n",
       "    }\n",
       "</style>\n",
       "<table border=\"1\" class=\"dataframe\">\n",
       "  <thead>\n",
       "    <tr style=\"text-align: right;\">\n",
       "      <th></th>\n",
       "      <th>extraction</th>\n",
       "      <th>hour</th>\n",
       "    </tr>\n",
       "  </thead>\n",
       "  <tbody>\n",
       "    <tr>\n",
       "      <th>0</th>\n",
       "      <td>01:01:15</td>\n",
       "      <td>01</td>\n",
       "    </tr>\n",
       "    <tr>\n",
       "      <th>1</th>\n",
       "      <td>01:13:45</td>\n",
       "      <td>01</td>\n",
       "    </tr>\n",
       "    <tr>\n",
       "      <th>2</th>\n",
       "      <td>01:26:15</td>\n",
       "      <td>01</td>\n",
       "    </tr>\n",
       "    <tr>\n",
       "      <th>3</th>\n",
       "      <td>01:38:45</td>\n",
       "      <td>01</td>\n",
       "    </tr>\n",
       "    <tr>\n",
       "      <th>4</th>\n",
       "      <td>01:51:15</td>\n",
       "      <td>01</td>\n",
       "    </tr>\n",
       "  </tbody>\n",
       "</table>\n",
       "</div>"
      ],
      "text/plain": [
       "  extraction hour\n",
       "0   01:01:15   01\n",
       "1   01:13:45   01\n",
       "2   01:26:15   01\n",
       "3   01:38:45   01\n",
       "4   01:51:15   01"
      ]
     },
     "execution_count": 51,
     "metadata": {},
     "output_type": "execute_result"
    }
   ],
   "source": [
    "df[\"hour\"] = [time.split(\":\")[0] for time in df.extraction]\n",
    "df[[\"extraction\", \"hour\"]].head()"
   ]
  },
  {
   "cell_type": "code",
   "execution_count": 52,
   "id": "4e8869ea",
   "metadata": {},
   "outputs": [
    {
     "name": "stdout",
     "output_type": "stream",
     "text": [
      "Before:  object\n",
      "After:  int64\n"
     ]
    }
   ],
   "source": [
    "print(\"Before: \", df.hour.dtype)\n",
    "df[\"hour\"] = pd.to_numeric(df.hour)\n",
    "print(\"After: \", df.hour.dtype)"
   ]
  },
  {
   "cell_type": "markdown",
   "id": "c5cf2e04",
   "metadata": {},
   "source": [
    "#### Now that our dataframe is in a much better shape and we have new features to work with, let's now do a deep dive and see if we can gather any interesting insights about customers' transactional behaviour."
   ]
  },
  {
   "cell_type": "code",
   "execution_count": 53,
   "id": "98db4b83",
   "metadata": {},
   "outputs": [
    {
     "data": {
      "text/html": [
       "<div>\n",
       "<style scoped>\n",
       "    .dataframe tbody tr th:only-of-type {\n",
       "        vertical-align: middle;\n",
       "    }\n",
       "\n",
       "    .dataframe tbody tr th {\n",
       "        vertical-align: top;\n",
       "    }\n",
       "\n",
       "    .dataframe thead th {\n",
       "        text-align: right;\n",
       "    }\n",
       "</style>\n",
       "<table border=\"1\" class=\"dataframe\">\n",
       "  <thead>\n",
       "    <tr style=\"text-align: right;\">\n",
       "      <th></th>\n",
       "      <th>status</th>\n",
       "      <th>card_present_flag</th>\n",
       "      <th>account</th>\n",
       "      <th>long_lat</th>\n",
       "      <th>txn_description</th>\n",
       "      <th>merchant_id</th>\n",
       "      <th>first_name</th>\n",
       "      <th>balance</th>\n",
       "      <th>date</th>\n",
       "      <th>gender</th>\n",
       "      <th>age</th>\n",
       "      <th>merchant_suburb</th>\n",
       "      <th>merchant_state</th>\n",
       "      <th>extraction</th>\n",
       "      <th>amount</th>\n",
       "      <th>transaction_id</th>\n",
       "      <th>customer_id</th>\n",
       "      <th>merchant_long_lat</th>\n",
       "      <th>movement</th>\n",
       "      <th>month</th>\n",
       "      <th>dayofweek</th>\n",
       "      <th>hour</th>\n",
       "    </tr>\n",
       "  </thead>\n",
       "  <tbody>\n",
       "    <tr>\n",
       "      <th>0</th>\n",
       "      <td>authorized</td>\n",
       "      <td>1.0</td>\n",
       "      <td>ACC-1598451071</td>\n",
       "      <td>153.41 -27.95</td>\n",
       "      <td>POS</td>\n",
       "      <td>81c48296-73be-44a7-befa-d053f48ce7cd</td>\n",
       "      <td>Diana</td>\n",
       "      <td>35.39</td>\n",
       "      <td>2018-08-01</td>\n",
       "      <td>F</td>\n",
       "      <td>26</td>\n",
       "      <td>Ashmore</td>\n",
       "      <td>QLD</td>\n",
       "      <td>01:01:15</td>\n",
       "      <td>16.25</td>\n",
       "      <td>a623070bfead4541a6b0fff8a09e706c</td>\n",
       "      <td>CUS-2487424745</td>\n",
       "      <td>153.38 -27.99</td>\n",
       "      <td>debit</td>\n",
       "      <td>8</td>\n",
       "      <td>2</td>\n",
       "      <td>1</td>\n",
       "    </tr>\n",
       "    <tr>\n",
       "      <th>1</th>\n",
       "      <td>authorized</td>\n",
       "      <td>0.0</td>\n",
       "      <td>ACC-1598451071</td>\n",
       "      <td>153.41 -27.95</td>\n",
       "      <td>SALES-POS</td>\n",
       "      <td>830a451c-316e-4a6a-bf25-e37caedca49e</td>\n",
       "      <td>Diana</td>\n",
       "      <td>21.20</td>\n",
       "      <td>2018-08-01</td>\n",
       "      <td>F</td>\n",
       "      <td>26</td>\n",
       "      <td>Sydney</td>\n",
       "      <td>NSW</td>\n",
       "      <td>01:13:45</td>\n",
       "      <td>14.19</td>\n",
       "      <td>13270a2a902145da9db4c951e04b51b9</td>\n",
       "      <td>CUS-2487424745</td>\n",
       "      <td>151.21 -33.87</td>\n",
       "      <td>debit</td>\n",
       "      <td>8</td>\n",
       "      <td>2</td>\n",
       "      <td>1</td>\n",
       "    </tr>\n",
       "    <tr>\n",
       "      <th>2</th>\n",
       "      <td>authorized</td>\n",
       "      <td>1.0</td>\n",
       "      <td>ACC-1222300524</td>\n",
       "      <td>151.23 -33.94</td>\n",
       "      <td>POS</td>\n",
       "      <td>835c231d-8cdf-4e96-859d-e9d571760cf0</td>\n",
       "      <td>Michael</td>\n",
       "      <td>5.71</td>\n",
       "      <td>2018-08-01</td>\n",
       "      <td>M</td>\n",
       "      <td>38</td>\n",
       "      <td>Sydney</td>\n",
       "      <td>NSW</td>\n",
       "      <td>01:26:15</td>\n",
       "      <td>6.42</td>\n",
       "      <td>feb79e7ecd7048a5a36ec889d1a94270</td>\n",
       "      <td>CUS-2142601169</td>\n",
       "      <td>151.21 -33.87</td>\n",
       "      <td>debit</td>\n",
       "      <td>8</td>\n",
       "      <td>2</td>\n",
       "      <td>1</td>\n",
       "    </tr>\n",
       "    <tr>\n",
       "      <th>3</th>\n",
       "      <td>authorized</td>\n",
       "      <td>1.0</td>\n",
       "      <td>ACC-1037050564</td>\n",
       "      <td>153.10 -27.66</td>\n",
       "      <td>SALES-POS</td>\n",
       "      <td>48514682-c78a-4a88-b0da-2d6302e64673</td>\n",
       "      <td>Rhonda</td>\n",
       "      <td>2117.22</td>\n",
       "      <td>2018-08-01</td>\n",
       "      <td>F</td>\n",
       "      <td>40</td>\n",
       "      <td>Buderim</td>\n",
       "      <td>QLD</td>\n",
       "      <td>01:38:45</td>\n",
       "      <td>40.90</td>\n",
       "      <td>2698170da3704fd981b15e64a006079e</td>\n",
       "      <td>CUS-1614226872</td>\n",
       "      <td>153.05 -26.68</td>\n",
       "      <td>debit</td>\n",
       "      <td>8</td>\n",
       "      <td>2</td>\n",
       "      <td>1</td>\n",
       "    </tr>\n",
       "    <tr>\n",
       "      <th>4</th>\n",
       "      <td>authorized</td>\n",
       "      <td>1.0</td>\n",
       "      <td>ACC-1598451071</td>\n",
       "      <td>153.41 -27.95</td>\n",
       "      <td>SALES-POS</td>\n",
       "      <td>b4e02c10-0852-4273-b8fd-7b3395e32eb0</td>\n",
       "      <td>Diana</td>\n",
       "      <td>17.95</td>\n",
       "      <td>2018-08-01</td>\n",
       "      <td>F</td>\n",
       "      <td>26</td>\n",
       "      <td>Mermaid Beach</td>\n",
       "      <td>QLD</td>\n",
       "      <td>01:51:15</td>\n",
       "      <td>3.25</td>\n",
       "      <td>329adf79878c4cf0aeb4188b4691c266</td>\n",
       "      <td>CUS-2487424745</td>\n",
       "      <td>153.44 -28.06</td>\n",
       "      <td>debit</td>\n",
       "      <td>8</td>\n",
       "      <td>2</td>\n",
       "      <td>1</td>\n",
       "    </tr>\n",
       "  </tbody>\n",
       "</table>\n",
       "</div>"
      ],
      "text/plain": [
       "       status card_present_flag         account       long_lat  \\\n",
       "0  authorized               1.0  ACC-1598451071  153.41 -27.95   \n",
       "1  authorized               0.0  ACC-1598451071  153.41 -27.95   \n",
       "2  authorized               1.0  ACC-1222300524  151.23 -33.94   \n",
       "3  authorized               1.0  ACC-1037050564  153.10 -27.66   \n",
       "4  authorized               1.0  ACC-1598451071  153.41 -27.95   \n",
       "\n",
       "  txn_description                           merchant_id first_name  balance  \\\n",
       "0             POS  81c48296-73be-44a7-befa-d053f48ce7cd      Diana    35.39   \n",
       "1       SALES-POS  830a451c-316e-4a6a-bf25-e37caedca49e      Diana    21.20   \n",
       "2             POS  835c231d-8cdf-4e96-859d-e9d571760cf0    Michael     5.71   \n",
       "3       SALES-POS  48514682-c78a-4a88-b0da-2d6302e64673     Rhonda  2117.22   \n",
       "4       SALES-POS  b4e02c10-0852-4273-b8fd-7b3395e32eb0      Diana    17.95   \n",
       "\n",
       "         date gender  age merchant_suburb merchant_state extraction  amount  \\\n",
       "0  2018-08-01      F   26         Ashmore            QLD   01:01:15   16.25   \n",
       "1  2018-08-01      F   26          Sydney            NSW   01:13:45   14.19   \n",
       "2  2018-08-01      M   38          Sydney            NSW   01:26:15    6.42   \n",
       "3  2018-08-01      F   40         Buderim            QLD   01:38:45   40.90   \n",
       "4  2018-08-01      F   26   Mermaid Beach            QLD   01:51:15    3.25   \n",
       "\n",
       "                     transaction_id     customer_id merchant_long_lat  \\\n",
       "0  a623070bfead4541a6b0fff8a09e706c  CUS-2487424745     153.38 -27.99   \n",
       "1  13270a2a902145da9db4c951e04b51b9  CUS-2487424745     151.21 -33.87   \n",
       "2  feb79e7ecd7048a5a36ec889d1a94270  CUS-2142601169     151.21 -33.87   \n",
       "3  2698170da3704fd981b15e64a006079e  CUS-1614226872     153.05 -26.68   \n",
       "4  329adf79878c4cf0aeb4188b4691c266  CUS-2487424745     153.44 -28.06   \n",
       "\n",
       "  movement  month  dayofweek  hour  \n",
       "0    debit      8          2     1  \n",
       "1    debit      8          2     1  \n",
       "2    debit      8          2     1  \n",
       "3    debit      8          2     1  \n",
       "4    debit      8          2     1  "
      ]
     },
     "execution_count": 53,
     "metadata": {},
     "output_type": "execute_result"
    }
   ],
   "source": [
    "df.head()"
   ]
  },
  {
   "cell_type": "markdown",
   "id": "36bc0fd7",
   "metadata": {},
   "source": [
    "## Purchases amount and overall amount"
   ]
  },
  {
   "cell_type": "code",
   "execution_count": 54,
   "id": "bd736627",
   "metadata": {},
   "outputs": [
    {
     "data": {
      "text/plain": [
       "0    16.25\n",
       "1    14.19\n",
       "2     6.42\n",
       "3    40.90\n",
       "4     3.25\n",
       "Name: amount, dtype: float64"
      ]
     },
     "execution_count": 54,
     "metadata": {},
     "output_type": "execute_result"
    }
   ],
   "source": [
    "purchases_amount = df.loc[(df.txn_description == \"POS\") | (df.txn_description == \"SALES-POS\"), \"amount\"]\n",
    "purchases_amount.head()"
   ]
  },
  {
   "cell_type": "code",
   "execution_count": 55,
   "id": "7b719b80",
   "metadata": {},
   "outputs": [
    {
     "name": "stderr",
     "output_type": "stream",
     "text": [
      "C:\\ProgramData\\Anaconda3\\lib\\site-packages\\seaborn\\distributions.py:2619: FutureWarning: `distplot` is a deprecated function and will be removed in a future version. Please adapt your code to use either `displot` (a figure-level function with similar flexibility) or `histplot` (an axes-level function for histograms).\n",
      "  warnings.warn(msg, FutureWarning)\n"
     ]
    },
    {
     "data": {
      "text/plain": [
       "Text(0.5, 1.0, 'Purchase transaction amount')"
      ]
     },
     "execution_count": 55,
     "metadata": {},
     "output_type": "execute_result"
    },
    {
     "data": {
      "image/png": "[encoded data removed]",
      "text/plain": [
       "<Figure size 576x360 with 1 Axes>"
      ]
     },
     "metadata": {
      "needs_background": "light"
     },
     "output_type": "display_data"
    }
   ],
   "source": [
    "plt.figure(figsize = (8, 5))\n",
    "sns.distplot(purchases_amount)\n",
    "plt.title(\"Purchase transaction amount\")"
   ]
  },
  {
   "cell_type": "code",
   "execution_count": 56,
   "id": "a2f1f265",
   "metadata": {},
   "outputs": [
    {
     "data": {
      "text/plain": [
       "count    7717.000000\n",
       "mean       40.153732\n",
       "std       149.833070\n",
       "min         0.100000\n",
       "25%        12.080000\n",
       "50%        19.700000\n",
       "75%        33.910000\n",
       "max      7081.090000\n",
       "Name: amount, dtype: float64"
      ]
     },
     "execution_count": 56,
     "metadata": {},
     "output_type": "execute_result"
    }
   ],
   "source": [
    "purchases_amount.describe()"
   ]
  },
  {
   "cell_type": "code",
   "execution_count": 57,
   "id": "2a6a45c7",
   "metadata": {},
   "outputs": [
    {
     "name": "stderr",
     "output_type": "stream",
     "text": [
      "C:\\ProgramData\\Anaconda3\\lib\\site-packages\\seaborn\\distributions.py:2619: FutureWarning: `distplot` is a deprecated function and will be removed in a future version. Please adapt your code to use either `displot` (a figure-level function with similar flexibility) or `histplot` (an axes-level function for histograms).\n",
      "  warnings.warn(msg, FutureWarning)\n"
     ]
    },
    {
     "data": {
      "text/plain": [
       "Text(0.5, 1.0, 'Overall transaction amount')"
      ]
     },
     "execution_count": 57,
     "metadata": {},
     "output_type": "execute_result"
    },
    {
     "data": {
      "image/png": "[encoded data removed]",
      "text/plain": [
       "<Figure size 576x360 with 1 Axes>"
      ]
     },
     "metadata": {
      "needs_background": "light"
     },
     "output_type": "display_data"
    }
   ],
   "source": [
    "plt.figure(figsize = (8, 5))\n",
    "sns.distplot(df.amount)\n",
    "plt.title(\"Overall transaction amount\")"
   ]
  },
  {
   "cell_type": "code",
   "execution_count": 58,
   "id": "1ffb08ae",
   "metadata": {},
   "outputs": [
    {
     "data": {
      "text/plain": [
       "count    12043.000000\n",
       "mean       187.933588\n",
       "std        592.599934\n",
       "min          0.100000\n",
       "25%         16.000000\n",
       "50%         29.000000\n",
       "75%         53.655000\n",
       "max       8835.980000\n",
       "Name: amount, dtype: float64"
      ]
     },
     "execution_count": 58,
     "metadata": {},
     "output_type": "execute_result"
    }
   ],
   "source": [
    "df.amount.describe()"
   ]
  },
  {
   "cell_type": "markdown",
   "id": "249abd27",
   "metadata": {},
   "source": [
    "#### Variance in overall transaction amount is much higher than purchases transaction amount due to the inclusion of salary payments."
   ]
  },
  {
   "cell_type": "markdown",
   "id": "20c7bb2c",
   "metadata": {},
   "source": [
    "## Transaction volume per customer"
   ]
  },
  {
   "cell_type": "code",
   "execution_count": 59,
   "id": "41df7c1c",
   "metadata": {},
   "outputs": [
    {
     "data": {
      "text/html": [
       "<div>\n",
       "<style scoped>\n",
       "    .dataframe tbody tr th:only-of-type {\n",
       "        vertical-align: middle;\n",
       "    }\n",
       "\n",
       "    .dataframe tbody tr th {\n",
       "        vertical-align: top;\n",
       "    }\n",
       "\n",
       "    .dataframe thead th {\n",
       "        text-align: right;\n",
       "    }\n",
       "</style>\n",
       "<table border=\"1\" class=\"dataframe\">\n",
       "  <thead>\n",
       "    <tr style=\"text-align: right;\">\n",
       "      <th></th>\n",
       "      <th>amount</th>\n",
       "    </tr>\n",
       "    <tr>\n",
       "      <th>customer_id</th>\n",
       "      <th></th>\n",
       "    </tr>\n",
       "  </thead>\n",
       "  <tbody>\n",
       "    <tr>\n",
       "      <th>CUS-1005756958</th>\n",
       "      <td>5422.990000</td>\n",
       "    </tr>\n",
       "    <tr>\n",
       "      <th>CUS-1117979751</th>\n",
       "      <td>11328.123333</td>\n",
       "    </tr>\n",
       "    <tr>\n",
       "      <th>CUS-1140341822</th>\n",
       "      <td>5670.200000</td>\n",
       "    </tr>\n",
       "    <tr>\n",
       "      <th>CUS-1147642491</th>\n",
       "      <td>9660.273333</td>\n",
       "    </tr>\n",
       "    <tr>\n",
       "      <th>CUS-1196156254</th>\n",
       "      <td>12016.906667</td>\n",
       "    </tr>\n",
       "  </tbody>\n",
       "</table>\n",
       "</div>"
      ],
      "text/plain": [
       "                      amount\n",
       "customer_id                 \n",
       "CUS-1005756958   5422.990000\n",
       "CUS-1117979751  11328.123333\n",
       "CUS-1140341822   5670.200000\n",
       "CUS-1147642491   9660.273333\n",
       "CUS-1196156254  12016.906667"
      ]
     },
     "execution_count": 59,
     "metadata": {},
     "output_type": "execute_result"
    }
   ],
   "source": [
    "customer_monthly_volume = pd.DataFrame(df.groupby(\"customer_id\").amount.sum() / 3) \n",
    "customer_monthly_volume.head()"
   ]
  },
  {
   "cell_type": "code",
   "execution_count": 60,
   "id": "7933cba6",
   "metadata": {},
   "outputs": [
    {
     "name": "stderr",
     "output_type": "stream",
     "text": [
      "C:\\ProgramData\\Anaconda3\\lib\\site-packages\\seaborn\\distributions.py:2619: FutureWarning: `distplot` is a deprecated function and will be removed in a future version. Please adapt your code to use either `displot` (a figure-level function with similar flexibility) or `histplot` (an axes-level function for histograms).\n",
      "  warnings.warn(msg, FutureWarning)\n"
     ]
    },
    {
     "data": {
      "text/plain": [
       "Text(0.5, 1.0, \"Customers' monthly transaction volume\")"
      ]
     },
     "execution_count": 60,
     "metadata": {},
     "output_type": "execute_result"
    },
    {
     "data": {
      "image/png": "[encoded data removed]",
      "text/plain": [
       "<Figure size 864x360 with 1 Axes>"
      ]
     },
     "metadata": {
      "needs_background": "light"
     },
     "output_type": "display_data"
    }
   ],
   "source": [
    "plt.figure(figsize = (12, 5))\n",
    "sns.distplot(customer_monthly_volume.amount)\n",
    "plt.title(\"Customers' monthly transaction volume\")"
   ]
  },
  {
   "cell_type": "markdown",
   "id": "08b5b854",
   "metadata": {},
   "source": [
    "## Transaction volume over time"
   ]
  },
  {
   "cell_type": "code",
   "execution_count": 61,
   "id": "0e5c19ff",
   "metadata": {},
   "outputs": [
    {
     "data": {
      "text/plain": [
       "Text(0.5, 1.0, 'Average transaction volume by month')"
      ]
     },
     "execution_count": 61,
     "metadata": {},
     "output_type": "execute_result"
    },
    {
     "data": {
      "image/png": "[encoded data removed]",
      "text/plain": [
       "<Figure size 360x360 with 1 Axes>"
      ]
     },
     "metadata": {
      "needs_background": "light"
     },
     "output_type": "display_data"
    }
   ],
   "source": [
    "plt.figure(figsize = (5, 5))\n",
    "sns.barplot(x = \"month\", y = \"amount\", data = df)\n",
    "plt.title(\"Average transaction volume by month\")"
   ]
  },
  {
   "cell_type": "code",
   "execution_count": 62,
   "id": "9cb4453b",
   "metadata": {},
   "outputs": [
    {
     "data": {
      "text/html": [
       "<div>\n",
       "<style scoped>\n",
       "    .dataframe tbody tr th:only-of-type {\n",
       "        vertical-align: middle;\n",
       "    }\n",
       "\n",
       "    .dataframe tbody tr th {\n",
       "        vertical-align: top;\n",
       "    }\n",
       "\n",
       "    .dataframe thead th {\n",
       "        text-align: right;\n",
       "    }\n",
       "</style>\n",
       "<table border=\"1\" class=\"dataframe\">\n",
       "  <thead>\n",
       "    <tr style=\"text-align: right;\">\n",
       "      <th></th>\n",
       "      <th>amount</th>\n",
       "    </tr>\n",
       "    <tr>\n",
       "      <th>dayofweek</th>\n",
       "      <th></th>\n",
       "    </tr>\n",
       "  </thead>\n",
       "  <tbody>\n",
       "    <tr>\n",
       "      <th>0</th>\n",
       "      <td>373.221000</td>\n",
       "    </tr>\n",
       "    <tr>\n",
       "      <th>1</th>\n",
       "      <td>221.576456</td>\n",
       "    </tr>\n",
       "    <tr>\n",
       "      <th>2</th>\n",
       "      <td>195.215570</td>\n",
       "    </tr>\n",
       "    <tr>\n",
       "      <th>3</th>\n",
       "      <td>184.010422</td>\n",
       "    </tr>\n",
       "    <tr>\n",
       "      <th>4</th>\n",
       "      <td>249.353517</td>\n",
       "    </tr>\n",
       "    <tr>\n",
       "      <th>5</th>\n",
       "      <td>54.419286</td>\n",
       "    </tr>\n",
       "    <tr>\n",
       "      <th>6</th>\n",
       "      <td>53.015845</td>\n",
       "    </tr>\n",
       "  </tbody>\n",
       "</table>\n",
       "</div>"
      ],
      "text/plain": [
       "               amount\n",
       "dayofweek            \n",
       "0          373.221000\n",
       "1          221.576456\n",
       "2          195.215570\n",
       "3          184.010422\n",
       "4          249.353517\n",
       "5           54.419286\n",
       "6           53.015845"
      ]
     },
     "execution_count": 62,
     "metadata": {},
     "output_type": "execute_result"
    }
   ],
   "source": [
    "average_daily_volume = pd.DataFrame(df.groupby(\"dayofweek\").amount.mean())\n",
    "average_daily_volume"
   ]
  },
  {
   "cell_type": "code",
   "execution_count": 63,
   "id": "ff42a473",
   "metadata": {},
   "outputs": [
    {
     "data": {
      "text/plain": [
       "Text(0.5, 0, 'Day of week')"
      ]
     },
     "execution_count": 63,
     "metadata": {},
     "output_type": "execute_result"
    },
    {
     "data": {
      "image/png": "[encoded data removed]",
      "text/plain": [
       "<Figure size 576x360 with 1 Axes>"
      ]
     },
     "metadata": {
      "needs_background": "light"
     },
     "output_type": "display_data"
    }
   ],
   "source": [
    "fig, ax = plt.subplots(figsize = (8, 5))\n",
    "ax.plot(average_daily_volume.index, average_daily_volume.amount)\n",
    "plt.title(\"Average transaction volume per day\")\n",
    "plt.ylabel(\"Transaction volume\")\n",
    "plt.xlabel(\"Day of week\")"
   ]
  },
  {
   "cell_type": "markdown",
   "id": "76882654",
   "metadata": {},
   "source": [
    "#### \n",
    "Friday and Saturday have the lowest average transaction volume. Let's see a breakdown of these transactions by types of transactions.\n",
    "\n",
    "To simplify the categories, I will group all transactions into 3 categories:\n",
    "\n",
    "Salary\n",
    "\n",
    "Purchase\n",
    "\n",
    "Others"
   ]
  },
  {
   "cell_type": "code",
   "execution_count": 64,
   "id": "754e6b66",
   "metadata": {},
   "outputs": [
    {
     "data": {
      "text/plain": [
       "SALES-POS     3934\n",
       "POS           3783\n",
       "PAYMENT       2600\n",
       "PAY/SALARY     883\n",
       "INTER BANK     742\n",
       "PHONE BANK     101\n",
       "Name: txn_description, dtype: int64"
      ]
     },
     "execution_count": 64,
     "metadata": {},
     "output_type": "execute_result"
    }
   ],
   "source": [
    "df.txn_description.value_counts()"
   ]
  },
  {
   "cell_type": "code",
   "execution_count": 65,
   "id": "9a7ab147",
   "metadata": {},
   "outputs": [
    {
     "data": {
      "text/html": [
       "<div>\n",
       "<style scoped>\n",
       "    .dataframe tbody tr th:only-of-type {\n",
       "        vertical-align: middle;\n",
       "    }\n",
       "\n",
       "    .dataframe tbody tr th {\n",
       "        vertical-align: top;\n",
       "    }\n",
       "\n",
       "    .dataframe thead th {\n",
       "        text-align: right;\n",
       "    }\n",
       "</style>\n",
       "<table border=\"1\" class=\"dataframe\">\n",
       "  <thead>\n",
       "    <tr style=\"text-align: right;\">\n",
       "      <th></th>\n",
       "      <th>txn_description</th>\n",
       "      <th>category</th>\n",
       "    </tr>\n",
       "  </thead>\n",
       "  <tbody>\n",
       "    <tr>\n",
       "      <th>0</th>\n",
       "      <td>POS</td>\n",
       "      <td>Purchase</td>\n",
       "    </tr>\n",
       "    <tr>\n",
       "      <th>1</th>\n",
       "      <td>SALES-POS</td>\n",
       "      <td>Purchase</td>\n",
       "    </tr>\n",
       "    <tr>\n",
       "      <th>2</th>\n",
       "      <td>POS</td>\n",
       "      <td>Purchase</td>\n",
       "    </tr>\n",
       "    <tr>\n",
       "      <th>3</th>\n",
       "      <td>SALES-POS</td>\n",
       "      <td>Purchase</td>\n",
       "    </tr>\n",
       "    <tr>\n",
       "      <th>4</th>\n",
       "      <td>SALES-POS</td>\n",
       "      <td>Purchase</td>\n",
       "    </tr>\n",
       "    <tr>\n",
       "      <th>5</th>\n",
       "      <td>PAYMENT</td>\n",
       "      <td>Others</td>\n",
       "    </tr>\n",
       "    <tr>\n",
       "      <th>6</th>\n",
       "      <td>SALES-POS</td>\n",
       "      <td>Purchase</td>\n",
       "    </tr>\n",
       "    <tr>\n",
       "      <th>7</th>\n",
       "      <td>POS</td>\n",
       "      <td>Purchase</td>\n",
       "    </tr>\n",
       "    <tr>\n",
       "      <th>8</th>\n",
       "      <td>POS</td>\n",
       "      <td>Purchase</td>\n",
       "    </tr>\n",
       "    <tr>\n",
       "      <th>9</th>\n",
       "      <td>INTER BANK</td>\n",
       "      <td>Others</td>\n",
       "    </tr>\n",
       "  </tbody>\n",
       "</table>\n",
       "</div>"
      ],
      "text/plain": [
       "  txn_description  category\n",
       "0             POS  Purchase\n",
       "1       SALES-POS  Purchase\n",
       "2             POS  Purchase\n",
       "3       SALES-POS  Purchase\n",
       "4       SALES-POS  Purchase\n",
       "5         PAYMENT    Others\n",
       "6       SALES-POS  Purchase\n",
       "7             POS  Purchase\n",
       "8             POS  Purchase\n",
       "9      INTER BANK    Others"
      ]
     },
     "execution_count": 65,
     "metadata": {},
     "output_type": "execute_result"
    }
   ],
   "source": [
    "df.loc[df.txn_description == \"PAY/SALARY\", \"category\"] = \"Salary\"\n",
    "df.loc[(df.txn_description == \"SALES-POS\") | (df.txn_description == \"POS\"), \"category\"] = \"Purchase\"\n",
    "df.category.fillna(\"Others\", inplace = True)\n",
    "df[[\"txn_description\", \"category\"]].head(10)"
   ]
  },
  {
   "cell_type": "code",
   "execution_count": 71,
   "id": "d56c61ac",
   "metadata": {},
   "outputs": [
    {
     "data": {
      "text/html": [
       "<div>\n",
       "<style scoped>\n",
       "    .dataframe tbody tr th:only-of-type {\n",
       "        vertical-align: middle;\n",
       "    }\n",
       "\n",
       "    .dataframe tbody tr th {\n",
       "        vertical-align: top;\n",
       "    }\n",
       "\n",
       "    .dataframe thead th {\n",
       "        text-align: right;\n",
       "    }\n",
       "</style>\n",
       "<table border=\"1\" class=\"dataframe\">\n",
       "  <thead>\n",
       "    <tr style=\"text-align: right;\">\n",
       "      <th></th>\n",
       "      <th></th>\n",
       "      <th>amount</th>\n",
       "    </tr>\n",
       "    <tr>\n",
       "      <th>dayofweek</th>\n",
       "      <th>category</th>\n",
       "      <th></th>\n",
       "    </tr>\n",
       "  </thead>\n",
       "  <tbody>\n",
       "    <tr>\n",
       "      <th rowspan=\"3\" valign=\"top\">0</th>\n",
       "      <th>Others</th>\n",
       "      <td>411</td>\n",
       "    </tr>\n",
       "    <tr>\n",
       "      <th>Purchase</th>\n",
       "      <td>742</td>\n",
       "    </tr>\n",
       "    <tr>\n",
       "      <th>Salary</th>\n",
       "      <td>207</td>\n",
       "    </tr>\n",
       "    <tr>\n",
       "      <th rowspan=\"3\" valign=\"top\">1</th>\n",
       "      <th>Others</th>\n",
       "      <td>486</td>\n",
       "    </tr>\n",
       "    <tr>\n",
       "      <th>Purchase</th>\n",
       "      <td>841</td>\n",
       "    </tr>\n",
       "    <tr>\n",
       "      <th>Salary</th>\n",
       "      <td>160</td>\n",
       "    </tr>\n",
       "    <tr>\n",
       "      <th rowspan=\"3\" valign=\"top\">2</th>\n",
       "      <th>Others</th>\n",
       "      <td>640</td>\n",
       "    </tr>\n",
       "    <tr>\n",
       "      <th>Purchase</th>\n",
       "      <td>1251</td>\n",
       "    </tr>\n",
       "    <tr>\n",
       "      <th>Salary</th>\n",
       "      <td>172</td>\n",
       "    </tr>\n",
       "    <tr>\n",
       "      <th rowspan=\"3\" valign=\"top\">3</th>\n",
       "      <th>Others</th>\n",
       "      <td>555</td>\n",
       "    </tr>\n",
       "    <tr>\n",
       "      <th>Purchase</th>\n",
       "      <td>1103</td>\n",
       "    </tr>\n",
       "    <tr>\n",
       "      <th>Salary</th>\n",
       "      <td>143</td>\n",
       "    </tr>\n",
       "    <tr>\n",
       "      <th rowspan=\"3\" valign=\"top\">4</th>\n",
       "      <th>Others</th>\n",
       "      <td>555</td>\n",
       "    </tr>\n",
       "    <tr>\n",
       "      <th>Purchase</th>\n",
       "      <td>1317</td>\n",
       "    </tr>\n",
       "    <tr>\n",
       "      <th>Salary</th>\n",
       "      <td>201</td>\n",
       "    </tr>\n",
       "    <tr>\n",
       "      <th rowspan=\"2\" valign=\"top\">5</th>\n",
       "      <th>Others</th>\n",
       "      <td>372</td>\n",
       "    </tr>\n",
       "    <tr>\n",
       "      <th>Purchase</th>\n",
       "      <td>1337</td>\n",
       "    </tr>\n",
       "    <tr>\n",
       "      <th rowspan=\"2\" valign=\"top\">6</th>\n",
       "      <th>Others</th>\n",
       "      <td>424</td>\n",
       "    </tr>\n",
       "    <tr>\n",
       "      <th>Purchase</th>\n",
       "      <td>1126</td>\n",
       "    </tr>\n",
       "  </tbody>\n",
       "</table>\n",
       "</div>"
      ],
      "text/plain": [
       "                    amount\n",
       "dayofweek category        \n",
       "0         Others       411\n",
       "          Purchase     742\n",
       "          Salary       207\n",
       "1         Others       486\n",
       "          Purchase     841\n",
       "          Salary       160\n",
       "2         Others       640\n",
       "          Purchase    1251\n",
       "          Salary       172\n",
       "3         Others       555\n",
       "          Purchase    1103\n",
       "          Salary       143\n",
       "4         Others       555\n",
       "          Purchase    1317\n",
       "          Salary       201\n",
       "5         Others       372\n",
       "          Purchase    1337\n",
       "6         Others       424\n",
       "          Purchase    1126"
      ]
     },
     "execution_count": 71,
     "metadata": {},
     "output_type": "execute_result"
    }
   ],
   "source": [
    "stacked_barplot = pd.DataFrame(df.groupby([\"dayofweek\", \"category\"]).amount.count())\n",
    "stacked_barplot"
   ]
  },
  {
   "cell_type": "code",
   "execution_count": 66,
   "id": "ee2b5b1a",
   "metadata": {},
   "outputs": [
    {
     "data": {
      "text/plain": [
       "Text(0.5, 0, 'Day of week')"
      ]
     },
     "execution_count": 66,
     "metadata": {},
     "output_type": "execute_result"
    },
    {
     "data": {
      "image/png": "[encoded data removed]",
      "text/plain": [
       "<Figure size 864x504 with 1 Axes>"
      ]
     },
     "metadata": {
      "needs_background": "light"
     },
     "output_type": "display_data"
    }
   ],
   "source": [
    "stacked_barplot = pd.DataFrame(df.groupby([\"dayofweek\", \"category\"]).amount.count())\n",
    "stacked_barplot.unstack().plot(kind = \"bar\", stacked = True, figsize = (12, 7))\n",
    "plt.title(\"Number of transactions each day by category\")\n",
    "plt.legend([\"Others\", \"Purchases\", \"Salaries\"])\n",
    "plt.ylabel(\"Number of transactions\")\n",
    "plt.xlabel(\"Day of week\")"
   ]
  },
  {
   "cell_type": "markdown",
   "id": "3cd4f7de",
   "metadata": {},
   "source": [
    "#### \n",
    "No salaries were paid on Friday and Saturday, therefore lower average transaction volume on those days.\n",
    "\n",
    "Also, it does not seem to appear that people spend more on purchases over the weekends."
   ]
  },
  {
   "cell_type": "code",
   "execution_count": 67,
   "id": "439cfac3",
   "metadata": {},
   "outputs": [
    {
     "data": {
      "text/html": [
       "<div>\n",
       "<style scoped>\n",
       "    .dataframe tbody tr th:only-of-type {\n",
       "        vertical-align: middle;\n",
       "    }\n",
       "\n",
       "    .dataframe tbody tr th {\n",
       "        vertical-align: top;\n",
       "    }\n",
       "\n",
       "    .dataframe thead th {\n",
       "        text-align: right;\n",
       "    }\n",
       "</style>\n",
       "<table border=\"1\" class=\"dataframe\">\n",
       "  <thead>\n",
       "    <tr style=\"text-align: right;\">\n",
       "      <th></th>\n",
       "      <th>amount</th>\n",
       "    </tr>\n",
       "    <tr>\n",
       "      <th>hour</th>\n",
       "      <th></th>\n",
       "    </tr>\n",
       "  </thead>\n",
       "  <tbody>\n",
       "    <tr>\n",
       "      <th>0</th>\n",
       "      <td>28.274907</td>\n",
       "    </tr>\n",
       "    <tr>\n",
       "      <th>1</th>\n",
       "      <td>48.716402</td>\n",
       "    </tr>\n",
       "    <tr>\n",
       "      <th>2</th>\n",
       "      <td>75.269764</td>\n",
       "    </tr>\n",
       "    <tr>\n",
       "      <th>3</th>\n",
       "      <td>84.725918</td>\n",
       "    </tr>\n",
       "    <tr>\n",
       "      <th>4</th>\n",
       "      <td>61.301845</td>\n",
       "    </tr>\n",
       "  </tbody>\n",
       "</table>\n",
       "</div>"
      ],
      "text/plain": [
       "         amount\n",
       "hour           \n",
       "0     28.274907\n",
       "1     48.716402\n",
       "2     75.269764\n",
       "3     84.725918\n",
       "4     61.301845"
      ]
     },
     "execution_count": 67,
     "metadata": {},
     "output_type": "execute_result"
    }
   ],
   "source": [
    "average_hourly_volume = pd.DataFrame(df.groupby(\"hour\").amount.mean())\n",
    "average_hourly_volume.head()"
   ]
  },
  {
   "cell_type": "code",
   "execution_count": 76,
   "id": "404368f7",
   "metadata": {},
   "outputs": [
    {
     "data": {
      "text/plain": [
       "Text(0.5, 0, 'Hour')"
      ]
     },
     "execution_count": 76,
     "metadata": {},
     "output_type": "execute_result"
    },
    {
     "data": {
      "image/png": "[encoded data removed]",
      "text/plain": [
       "<Figure size 576x360 with 1 Axes>"
      ]
     },
     "metadata": {
      "needs_background": "light"
     },
     "output_type": "display_data"
    }
   ],
   "source": [
    "fig, ax = plt.subplots(figsize = (8, 5))\n",
    "ax.plot(average_hourly_volume.index, average_hourly_volume.amount)\n",
    "plt.xticks(np.arange(0,24))\n",
    "plt.title(\"Average transaction volume per hour\")\n",
    "plt.ylabel(\"Transaction volume\")\n",
    "plt.xlabel(\"Hour\")"
   ]
  },
  {
   "cell_type": "markdown",
   "id": "584f8bbd",
   "metadata": {},
   "source": [
    "#### Highest transaction volumes happen during the midday and late afternoon. Let's see a breakdown of these transactions by categories."
   ]
  },
  {
   "cell_type": "code",
   "execution_count": 69,
   "id": "93d2c2ab",
   "metadata": {},
   "outputs": [
    {
     "data": {
      "text/plain": [
       "Text(0.5, 0, 'Hour')"
      ]
     },
     "execution_count": 69,
     "metadata": {},
     "output_type": "execute_result"
    },
    {
     "data": {
      "image/png": "[encoded data removed]",
      "text/plain": [
       "<Figure size 864x504 with 1 Axes>"
      ]
     },
     "metadata": {
      "needs_background": "light"
     },
     "output_type": "display_data"
    }
   ],
   "source": [
    "stacked_barplot = pd.DataFrame(df.groupby([\"hour\", \"category\"]).amount.count())\n",
    "stacked_barplot.unstack().plot(kind = \"bar\", stacked = True, figsize = (12, 7))\n",
    "plt.title(\"Number of transactions each hour by category\")\n",
    "plt.legend([\"Others\", \"Purchases\", \"Salaries\"])\n",
    "plt.ylabel(\"Number of transactions\")\n",
    "plt.xlabel(\"Hour\")"
   ]
  },
  {
   "cell_type": "markdown",
   "id": "a3c64e06",
   "metadata": {},
   "source": [
    "## Task: distance between customers and merchants"
   ]
  },
  {
   "cell_type": "markdown",
   "id": "6313f165",
   "metadata": {},
   "source": [
    "#### An additional challenge that we could do is figuring out the distance between the customers and the merchants and analyse its distribution."
   ]
  },
  {
   "cell_type": "code",
   "execution_count": 70,
   "id": "60e873db",
   "metadata": {},
   "outputs": [
    {
     "data": {
      "text/html": [
       "<div>\n",
       "<style scoped>\n",
       "    .dataframe tbody tr th:only-of-type {\n",
       "        vertical-align: middle;\n",
       "    }\n",
       "\n",
       "    .dataframe tbody tr th {\n",
       "        vertical-align: top;\n",
       "    }\n",
       "\n",
       "    .dataframe thead th {\n",
       "        text-align: right;\n",
       "    }\n",
       "</style>\n",
       "<table border=\"1\" class=\"dataframe\">\n",
       "  <thead>\n",
       "    <tr style=\"text-align: right;\">\n",
       "      <th></th>\n",
       "      <th>long_lat</th>\n",
       "      <th>merchant_long_lat</th>\n",
       "    </tr>\n",
       "  </thead>\n",
       "  <tbody>\n",
       "    <tr>\n",
       "      <th>0</th>\n",
       "      <td>153.41 -27.95</td>\n",
       "      <td>153.38 -27.99</td>\n",
       "    </tr>\n",
       "    <tr>\n",
       "      <th>1</th>\n",
       "      <td>153.41 -27.95</td>\n",
       "      <td>151.21 -33.87</td>\n",
       "    </tr>\n",
       "    <tr>\n",
       "      <th>2</th>\n",
       "      <td>151.23 -33.94</td>\n",
       "      <td>151.21 -33.87</td>\n",
       "    </tr>\n",
       "    <tr>\n",
       "      <th>3</th>\n",
       "      <td>153.10 -27.66</td>\n",
       "      <td>153.05 -26.68</td>\n",
       "    </tr>\n",
       "    <tr>\n",
       "      <th>4</th>\n",
       "      <td>153.41 -27.95</td>\n",
       "      <td>153.44 -28.06</td>\n",
       "    </tr>\n",
       "  </tbody>\n",
       "</table>\n",
       "</div>"
      ],
      "text/plain": [
       "        long_lat merchant_long_lat\n",
       "0  153.41 -27.95     153.38 -27.99\n",
       "1  153.41 -27.95     151.21 -33.87\n",
       "2  151.23 -33.94     151.21 -33.87\n",
       "3  153.10 -27.66     153.05 -26.68\n",
       "4  153.41 -27.95     153.44 -28.06"
      ]
     },
     "execution_count": 70,
     "metadata": {},
     "output_type": "execute_result"
    }
   ],
   "source": [
    "df[[\"long_lat\", \"merchant_long_lat\"]].head()"
   ]
  },
  {
   "cell_type": "code",
   "execution_count": 77,
   "id": "5623b2ed",
   "metadata": {},
   "outputs": [],
   "source": [
    "df.to_pickle('task1.pkl')"
   ]
  },
  {
   "cell_type": "code",
   "execution_count": null,
   "id": "1e9e5edd",
   "metadata": {},
   "outputs": [],
   "source": []
  }
 ],
 "metadata": {
  "kernelspec": {
   "display_name": "Python 3 (ipykernel)",
   "language": "python",
   "name": "python3"
  },
  "language_info": {
   "codemirror_mode": {
    "name": "ipython",
    "version": 3
   },
   "file_extension": ".py",
   "mimetype": "text/x-python",
   "name": "python",
   "nbconvert_exporter": "python",
   "pygments_lexer": "ipython3",
   "version": "3.9.7"
  }
 },
 "nbformat": 4,
 "nbformat_minor": 5
}
